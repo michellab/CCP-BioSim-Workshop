{
 "cells": [
  {
   "cell_type": "markdown",
   "metadata": {},
   "source": [
    "# Advanced free energy analyses with SOMD\n",
    "\n",
    "In this notebook we will explore advanced analysis techniques for alchemical free enregy calculations, using Sire tool `analyse_freenrg mbar`. \n",
    "Initially, you will learn how to correctly interpret phase space overlap matrix. Following, advanced commands will be shown to enhance the mbar analysis.\n",
    "\n",
    "The notebook forms part of the CCPBio-Sim workshop **Alchemical Free Energy Simulation Analysis with analyse_freenrg** run on the 11th of April 2018 at the University of Bristol.\n",
    "\n",
    "*Author: Anotnia Mey & Stefano Bosisio  \n",
    "Email: antonia.mey@ed.ac.uk*\n",
    "\n",
    "**Reading time of the document: xx mins**"
   ]
  },
  {
   "cell_type": "markdown",
   "metadata": {},
   "source": [
    "## Overlap matrix"
   ]
  },
  {
   "cell_type": "code",
   "execution_count": null,
   "metadata": {},
   "outputs": [],
   "source": [
    "%pylab inline\n",
    "import glob\n",
    "import seaborn as sbn\n",
    "sbn.set_style(\"ticks\")\n",
    "sbn.set_context(\"notebook\", font_scale = 2)"
   ]
  },
  {
   "cell_type": "markdown",
   "metadata": {},
   "source": [
    "### The overlap matrix\n",
    "\n",
    "can be used to look at the phase space overlap of neighbouring lambdas. \n",
    "By adding the flag `--overlap` this matrix will be automatically computed and added to the output file. \n",
    "\n",
    "So let's look at the overlap matrix for a simulation of a host-guest system, shown in figure, obtained by running 16 $\\lambda$ windows of 8 ns length each. \n",
    "This time we will write an output file called `good_overlap.dat`\n",
    "\n",
    "\n",
    "<img src=\"images/CBC-G2.png\" alt=\"host-guest\" style=\"width: 300px;\"/>\n"
   ]
  },
  {
   "cell_type": "code",
   "execution_count": null,
   "metadata": {},
   "outputs": [],
   "source": [
    "%%capture run_info_good\n",
    "#Let's run the analysis again with the keyword --overlap\n",
    "!~/sire_2018/sire.app/bin/analyse_freenrg mbar -i good_overlap/lambda-*/simfile.dat -o good_overlap.dat --subsampling --overlap"
   ]
  },
  {
   "cell_type": "code",
   "execution_count": null,
   "metadata": {},
   "outputs": [],
   "source": [
    "#A helper function to read the overlap matrix from file\n",
    "def get_overlp_matrix(filename, lambda_val ):\n",
    "    fh = open (filename, 'r')\n",
    "    lines = fh.readlines()\n",
    "    fh.close()\n",
    "    count = 0\n",
    "    matrix = []\n",
    "    for line in lines:\n",
    "        if line.startswith('#Overlap'):\n",
    "            matrix = lines[(count+1):(count+1+lambda_vals)]\n",
    "            break\n",
    "        count = count+1 \n",
    "    for i in range(len(matrix)):\n",
    "        temp = matrix[i].strip().split(' ')\n",
    "        float_temp = [float(j) for j in temp]\n",
    "        matrix[i] = float_temp\n",
    "    matrix =np.array(matrix)\n",
    "    return matrix"
   ]
  },
  {
   "cell_type": "code",
   "execution_count": null,
   "metadata": {},
   "outputs": [],
   "source": [
    "#an exercise could be add the lambda_vals in the function above\n",
    "good_overlap = get_overlp_matrix('good_overlap.dat',16)\n"
   ]
  },
  {
   "cell_type": "markdown",
   "metadata": {},
   "source": [
    "### Plotting the overlap matrix\n",
    "The plotting library has a nice advanced heat map feature that allows you to not only plot a pictorial image of a matrix or heatmap but also add the numercal values making it easier to read the plot"
   ]
  },
  {
   "cell_type": "code",
   "execution_count": null,
   "metadata": {},
   "outputs": [],
   "source": [
    "fig = figure(figsize=(12,12))\n",
    "ax = sbn.heatmap(good_overlap, annot=True, fmt='.2f', linewidths=.5, annot_kws={\"size\": 12})\n",
    "ax.set_xlabel(r'$\\lambda$ index')\n",
    "ax.set_ylabel(r'$\\lambda$ index')\n",
    "ax.set_title('Good overlap matrix')"
   ]
  },
  {
   "cell_type": "markdown",
   "metadata": {},
   "source": [
    "### Example of a bad overlap matrix\n",
    "Below we have the same simulation as before, but reducing the number of lambda windows from 11 to 6. What do you observe in terms of the overlap matrix?\n",
    "\n",
    "Belowe we have the same simulation as before, but the number of $\\lambda$ windows was reduced from 16 to 10. What do you observe in terms of the overlap matrix? \n",
    "Repeat the procedure above and create a file called `bad_overlap.dat`"
   ]
  },
  {
   "cell_type": "code",
   "execution_count": null,
   "metadata": {},
   "outputs": [],
   "source": [
    "%%capture run_info_bad\n",
    "#Let's run the analysis again with the keyword --overlap\n"
   ]
  },
  {
   "cell_type": "code",
   "execution_count": null,
   "metadata": {},
   "outputs": [],
   "source": [
    "bad_overlap = get_overlp_matrix('bad_overlap.dat',10)"
   ]
  },
  {
   "cell_type": "code",
   "execution_count": null,
   "metadata": {},
   "outputs": [],
   "source": [
    "fig = figure(figsize=(12,12))\n",
    "ax = sbn.heatmap(good_overlap, annot=True, fmt='.2f', linewidths=.5, annot_kws={\"size\": 12})\n",
    "ax.set_xlabel(r'$\\lambda$ index')\n",
    "ax.set_ylabel(r'$\\lambda$ index')\n",
    "ax.set_title('Bad overlap matrix')"
   ]
  },
  {
   "cell_type": "markdown",
   "metadata": {},
   "source": [
    "### Advanced tasks\n",
    "\n",
    "As an advanced task we are going to deal with mbar command `subsampling` and `discard`. The former option performs a subsamplin operation over all the samles data, written in the `simfile.dat` files. The second choice, `discard`, will discard a number of frames from the beginning of the simulation. This is beneficial for our estimation, as in the very first frames the system is usually equilibrating, giving rise to noise to the final free energy calculation. \n",
    "\n",
    "We are going to study a host-guest system, similar to the one shown before. To compute the binding free energy, the following thermodynamic cycle is adopted:\n",
    "<img src=\"images/host_guest_cyclo.png\" alt=\"host-guest\" style=\"width: 500px;\"/>\n",
    "Initially, a `discharging` step is performed, where ligand's charges are turned off both in solvated and  bound phases. Following, a `vanishing` step is done, by  switching off ligand's Lennard Jones terms, in order to have a fully decouple molecule. \n",
    "The final free energy of binding is computed, by summing up the contribution of each leg of the cycle, as:\n",
    "\\begin{equation}\n",
    "\\Delta G_\\mathrm{bind} = (\\Delta G^\\mathrm{solv}_\\mathrm{elec} + \\Delta G^\\mathrm{solv}_\\mathrm{vdW}) - (\\Delta G^\\mathrm{host}_\\mathrm{elec} + \\Delta G^\\mathrm{host}_\\mathrm{vdW} ) \n",
    "\\end{equation}"
   ]
  },
  {
   "cell_type": "markdown",
   "metadata": {},
   "source": [
    "Try to perform these steps:\n",
    "1. Compute the discharging and vanishing free energy for the solvated and bound phase using the standard `analyse_freenrg mbar` command. Thus, retrieve the binding free energy using the equation above\n",
    "2. Compute the discharging and vanishing free energy by adding the option `--subsampling` and discarding the first 500 frames (`discard 500`). What do you notice? What is happening to TI? and MBAR? What is the final binding free energy?\n",
    "3. What conclusions can you draw from the previous points?\n"
   ]
  },
  {
   "cell_type": "code",
   "execution_count": null,
   "metadata": {},
   "outputs": [],
   "source": [
    "#1. Compute the discharging and vanishing free energy for the solvated and bound phase:\n",
    "#bound phase -discharging\n",
    "!~/sire_2018/sire.app/bin/analyse_freenrg mbar -i subsampling/bound/run001/discharge/output/lambda-*/simfile.dat -o bound_discharge.dat\n",
    "#bound phase -vanishing\n",
    "!~/sire_2018/sire.app/bin/analyse_freenrg mbar -i subsampling/bound/run001/vanish/output/lambda-*/simfile.dat -o bound_vanish.dat\n",
    "#solvated phase -discharging\n",
    "!~/sire_2018/sire.app/bin/analyse_freenrg mbar -i subsampling/free/run001/discharge/output/lambda-*/simfile.dat -o free_discharge.dat\n",
    "#solvated phase -vanishing\n",
    "!~/sire_2018/sire.app/bin/analyse_freenrg mbar -i subsampling/free/run001/vanish/output/lambda-*/simfile.dat -o free_vanish.dat\n"
   ]
  },
  {
   "cell_type": "code",
   "execution_count": null,
   "metadata": {},
   "outputs": [],
   "source": [
    "#helper function to extract DG from the freenrg_analysis generated files. \n",
    "def get_free_energy(ifile):\n",
    "    reader = open(ifile,\"r\").readlines()\n",
    "    mbar = float(reader[-3].split(\",\")[0])\n",
    "    ti = float(reader[-1].split()[0])\n",
    "    return mbar, ti"
   ]
  },
  {
   "cell_type": "code",
   "execution_count": null,
   "metadata": {},
   "outputs": [],
   "source": [
    "#Extract the free energy changes from the output files\n",
    "bound_discharge_mbar, bound_discharge_ti = get_free_energy('bound_discharge.dat')\n",
    "bound_vanish_mbar,bound_vanish_ti = get_free_energy('bound_vanish.dat')\n",
    "\n",
    "free_discharge_mbar,free_discharge_ti = get_free_energy('free_discharge.dat')\n",
    "free_vanish_mbar, free_vanish_ti = get_free_energy('free_vanish.dat')\n",
    "\n",
    "#Compute the free energy change in the bound and water phase for mbar\n",
    "DG_bound_mbar =\n",
    "DG_free_mbar = \n",
    "#Compute the free energy change in the bound and water phase for TI\n",
    "DG_bound_ti = \n",
    "DG_free_ti = \n",
    "\n",
    "\n",
    "#Thus, using the equation above, compute the estimation of binding free energy using mbar and TI\n",
    "DG_bind_mbar = DG_free_mbar - DG_bound_mbar \n",
    "DG_bind_ti =  \n",
    "\n",
    "#What is the binding free energy with MBAR? and with TI?\n"
   ]
  },
  {
   "cell_type": "code",
   "execution_count": null,
   "metadata": {},
   "outputs": [],
   "source": [
    "#3. Try to re run using the --discard option. What do you notice?\n",
    "!~/sire_2018/sire.app/bin/analyse_freenrg mbar -i subsampling/bound/run001/discharge/output/lambda-*/simfile.dat -o bound_discharge.dat --subsampling  --discard 500\n",
    "#bound phase -vanishing\n",
    "!~/sire_2018/sire.app/bin/analyse_freenrg mbar -i subsampling/bound/run001/vanish/output/lambda-*/simfile.dat -o bound_vanish.dat --subsampling  --discard 500\n",
    "#solvated phase -discharging \n",
    "!~/sire_2018/sire.app/bin/analyse_freenrg mbar -i subsampling/free/run001/discharge/output/lambda-*/simfile.dat -o free_discharge.dat --subsampling  --discard 500\n",
    "#solvated phase -vanishing\n",
    "!~/sire_2018/sire.app/bin/analyse_freenrg mbar -i subsampling/free/run001/vanish/output/lambda-*/simfile.dat -o free_vanish.dat --subsampling --discard 500\n",
    "\n"
   ]
  },
  {
   "cell_type": "code",
   "execution_count": null,
   "metadata": {},
   "outputs": [],
   "source": [
    "#Extract the free enery change from the output files\n",
    "bound_discharge_mbar, bound_discharge_ti = get_free_energy('bound_discharge.dat')\n",
    "bound_vanish_mbar,bound_vanish_ti = get_free_energy('bound_vanish.dat')\n",
    "\n",
    "free_discharge_mbar,free_discharge_ti = get_free_energy('free_discharge.dat')\n",
    "free_vanish_mbar, free_vanish_ti = get_free_energy('free_vanish.dat')\n",
    "\n",
    "#Compute the free energy change in the bound and water phase for mbar\n",
    "DG_bound_mbar =\n",
    "DG_free_mbar = \n",
    "#Compute the free energy change in the bound and water phase for TI\n",
    "DG_bound_ti = \n",
    "DG_free_ti =\n",
    "\n",
    "\n",
    "#Thus, using the equation above, compute the estimation of binding free energy using mbar and TI\n",
    "DG_bind_mbar = \n",
    "DG_bind_ti =  \n",
    "\n",
    "#What is the binding free energy with MBAR? and with TI?\n"
   ]
  },
  {
   "cell_type": "markdown",
   "metadata": {},
   "source": [
    "The experimental standard binding free energy $\\Delta G^\\circ_\\mathrm{bind}$ is 7.08 $\\pm$ 0.01 kcal$\\cdot$mol$^{-1}$.\n",
    "Although our predictions are quite far apart, the subsampling and discard show an improvement of about  1 kcal$\\cdot$mol$^{-1}$ on the final MBAR free energy estimation.  On the other side, TI fails to correctly predict the binding in this case. This is due to the noise present along the simulation, which greatly influences the free energy gradients values, thus the final free energy integration. Such a behaviour does not exist in MBAR, which is always consistent for all the evaluation process.\n",
    "Finally, it is worth to mention that this is just the first step toward accurate predictions. What w ehave obtained here is just a binding free energy $\\Delta G_\\mathrm{bind}$ which cannot be compared to the experimental value. Indeed, we are missing the definition of a standard state for the simulation, thus a standard state correction term for the free energy evaluation. Additionally, we should consider also Lennard Jones corrections and electrostatic finite size artefacts correction, which can remarkably improve the final free energy estimation."
   ]
  },
  {
   "cell_type": "markdown",
   "metadata": {},
   "source": [
    "\n"
   ]
  },
  {
   "cell_type": "markdown",
   "metadata": {},
   "source": [
    "Congratulations you have finished this tutorial! Time for a coffee or tea break :-)"
   ]
  }
 ],
 "metadata": {
  "kernelspec": {
   "display_name": "Python 2",
   "language": "python",
   "name": "python2"
  },
  "language_info": {
   "codemirror_mode": {
    "name": "ipython",
    "version": 2
   },
   "file_extension": ".py",
   "mimetype": "text/x-python",
   "name": "python",
   "nbconvert_exporter": "python",
   "pygments_lexer": "ipython2",
   "version": "2.7.6"
  }
 },
 "nbformat": 4,
 "nbformat_minor": 2
}
