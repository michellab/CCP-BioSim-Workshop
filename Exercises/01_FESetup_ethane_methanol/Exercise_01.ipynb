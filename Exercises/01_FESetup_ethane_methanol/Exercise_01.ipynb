{
 "cells": [
  {
   "cell_type": "markdown",
   "metadata": {},
   "source": [
    "## Setting up a Hydration Free Energy Calculuation\n",
    "This notebook will guide you through how to use FESetup in order to run an alchemical free energy calculation.    \n",
    "\n",
    "\n",
    "The notebook forms part of the CCPBio-Sim workshop **Tackling Alchemistry with FESetup and Sire SOMD** run on the 10th of April 2018 at the University of Bristol.\n",
    "\n",
    "*Author: Anotnia Mey   \n",
    "Email: antonia.mey@ed.ac.uk*\n",
    "\n",
    "**Reading time of the document: xx mins**"
   ]
  },
  {
   "cell_type": "markdown",
   "metadata": {},
   "source": [
    "### Setting up the notebook with all necessary imports"
   ]
  },
  {
   "cell_type": "code",
   "execution_count": null,
   "metadata": {
    "collapsed": true
   },
   "outputs": [],
   "source": [
    "%pylab inline\n",
    "import nglview as nv"
   ]
  },
  {
   "cell_type": "markdown",
   "metadata": {},
   "source": [
    "### Setting the stage\n",
    "We want to compute the relative free energy of hydration between ethane and methanol. That is the free energy difference between hydrating an ethane molecule in water and a methanol molecule in water. It assumes that you had a look at the slides of lecture 1 or attended lecture1 (maybe youtube link here).\n",
    "\n",
    "Below you can see a thermodynamic cycle for the relative hydration free energy of ethane and methanol:\n",
    "![therm_cycle](images/Therm_cycle.png)\n",
    "\n",
    "We use FESetup to authomatically generate the perturbation information needed for running the alchemical free energy calcualtions."
   ]
  },
  {
   "cell_type": "markdown",
   "metadata": {},
   "source": [
    "### Visualise molecule\n",
    "\n",
    "Have a look in the `FESetup_01` directory. You will find a file called `morph.in` and a directory called `solute`. `morph.in` is the main input file and we will look at it more closely in a second. `solute` contains two further directories: `ethane` and `methanol` each containing a pdb structure file called `solute.pdb` containing the 3D structure of the two molecules we want to compute the relative hydration free energy difference.   \n",
    "\n",
    "Let's use nglview to look at the ethane molecule:"
   ]
  },
  {
   "cell_type": "code",
   "execution_count": null,
   "metadata": {
    "collapsed": true
   },
   "outputs": [],
   "source": [
    "view = nv.show_file('FESetup_01/solutes/ethane/solute.pdb')\n",
    "view"
   ]
  },
  {
   "cell_type": "markdown",
   "metadata": {},
   "source": [
    "**1. Task: load methanol into nglview as well**"
   ]
  },
  {
   "cell_type": "code",
   "execution_count": null,
   "metadata": {
    "collapsed": true
   },
   "outputs": [],
   "source": [
    "#Insert code for methanol here\n",
    "\n"
   ]
  },
  {
   "cell_type": "markdown",
   "metadata": {},
   "source": [
    "## FESetup\n",
    "Now, rather than just looking at the strucutre of these two molecules we want to set them up with FESetup such that they will be ready for running an alchemical free energy simulation. You can open a terminal and run FESetup from the command line by simply typing:   \n",
    "    ```FESetup --help```"
   ]
  },
  {
   "cell_type": "markdown",
   "metadata": {},
   "source": [
    "Or you can run things within the notebook. In order to access command line arguments in a notebook you can use the exclamation mark as an escape and the magic function %%cpature to capture all output. "
   ]
  },
  {
   "cell_type": "code",
   "execution_count": null,
   "metadata": {
    "collapsed": true
   },
   "outputs": [],
   "source": [
    "%%capture info\n",
    "!FESetup --help"
   ]
  },
  {
   "cell_type": "code",
   "execution_count": null,
   "metadata": {
    "collapsed": true
   },
   "outputs": [],
   "source": [
    "info.stdout"
   ]
  },
  {
   "cell_type": "markdown",
   "metadata": {},
   "source": [
    "FESetup is a command line tool and you can pass it an input file defining what you would like to set up. Here we are working with ethane and methanol. Let's have a closer look at `morph.in`.\n",
    "\n"
   ]
  },
  {
   "cell_type": "code",
   "execution_count": null,
   "metadata": {
    "collapsed": true
   },
   "outputs": [],
   "source": [
    "!head -n 7 FESetup_01/morph.in"
   ]
  },
  {
   "cell_type": "markdown",
   "metadata": {},
   "source": [
    "The first section consists of global directives. Important here are the two directives `AFE.tye=Sire` and `AFE.separate_vdw_elec = false`. The first one means that Sire compatible output is generated and the second one means that the simulation will be carried out using a single step perturbation, perturbing charges and van der Waals interactions at the same time."
   ]
  },
  {
   "cell_type": "code",
   "execution_count": null,
   "metadata": {
    "collapsed": true
   },
   "outputs": [],
   "source": [
    "!tail -n 19 FESetup_01/morph.in"
   ]
  },
  {
   "cell_type": "markdown",
   "metadata": {},
   "source": [
    "Let's change to the directory FESetup_01"
   ]
  },
  {
   "cell_type": "code",
   "execution_count": null,
   "metadata": {
    "collapsed": true
   },
   "outputs": [],
   "source": [
    "cd FESetup_01/"
   ]
  },
  {
   "cell_type": "code",
   "execution_count": null,
   "metadata": {
    "collapsed": true
   },
   "outputs": [],
   "source": [
    "ls"
   ]
  },
  {
   "cell_type": "markdown",
   "metadata": {},
   "source": [
    "For FESetup to understand what files to work on a strict directory structure is used. `basdir` gives information where it can find all molecules files. Here the basedir is called `solute`. In `solute` you have the molecules ethane and methanol as indicated by the corresponding directory and the actual filename which should be the same for all solutes is in this case `file.name = solute.pdb`. `molecules` defines the molecules that should actually be setup and in this case is the list of directories.\n",
    "\n",
    "Any directive that starts with `box.type` indicates that a solvated version of the molecule should be gnerated. FESetup also allows to run a minimisation straight away by using the different `min` directives. In the above example a minimisation for 100 steps using a restraint on non-solvent molecules of 10. \n",
    "\n",
    "To execute FESetup you either type into your terminal `FESetup morph.in` or exectute the next cell."
   ]
  },
  {
   "cell_type": "code",
   "execution_count": null,
   "metadata": {
    "collapsed": true
   },
   "outputs": [],
   "source": [
    "!FESetup morph.in"
   ]
  },
  {
   "cell_type": "markdown",
   "metadata": {},
   "source": [
    "The output should look like this:\n",
    "```bash\n",
    "FESetup morph.in \n",
    "\n",
    "=== FESetup release 1.2.1, SUI version: 0.8.3 ===\n",
    "\n",
    "Please cite: HH Loeffler, J Michel, C Woods, J Chem Inf Mod, 55, 2485\n",
    "             DOI 10.1021/acs.jcim.5b00368\n",
    "For more information please visit http://www.ccpbiosim.ac.uk/fesetup/\n",
    "\n",
    "Making ligand ethane...\n",
    "Making ligand methanol...\n",
    "Morphs will be generated for Sire\n",
    "Morphing ethane to methanol...\n",
    "\n",
    "=== All molecules built successfully ===\n",
    "\n",
    "\n",
    "real\t0m7.047s\n",
    "user\t0m6.712s\n",
    "sys\t0m0.349s\n",
    "```"
   ]
  },
  {
   "cell_type": "markdown",
   "metadata": {},
   "source": [
    "Furthermore  some additional files have been generated"
   ]
  },
  {
   "cell_type": "code",
   "execution_count": null,
   "metadata": {
    "collapsed": true
   },
   "outputs": [],
   "source": [
    "ls"
   ]
  },
  {
   "cell_type": "markdown",
   "metadata": {},
   "source": [
    "Directories with an underscore `_` are output directories that contain the relevant information for the simualtion input. The most useful file is the generated logfile `eth-meth.log`. It contains all amber commands that were run behind the scenes. "
   ]
  },
  {
   "cell_type": "markdown",
   "metadata": {},
   "source": [
    "### Solvated ethane"
   ]
  },
  {
   "cell_type": "code",
   "execution_count": null,
   "metadata": {
    "collapsed": true
   },
   "outputs": [],
   "source": [
    "#visualise ethane here"
   ]
  },
  {
   "cell_type": "markdown",
   "metadata": {},
   "source": [
    "### Solvated methanol"
   ]
  },
  {
   "cell_type": "code",
   "execution_count": null,
   "metadata": {
    "collapsed": true
   },
   "outputs": [],
   "source": [
    "## visualise solvated methanol fill in code to visualise solvated methanol"
   ]
  },
  {
   "cell_type": "code",
   "execution_count": null,
   "metadata": {
    "collapsed": true
   },
   "outputs": [],
   "source": [
    "## Widget question box"
   ]
  },
  {
   "cell_type": "code",
   "execution_count": null,
   "metadata": {
    "collapsed": true
   },
   "outputs": [],
   "source": [
    "## perturbation files"
   ]
  },
  {
   "cell_type": "markdown",
   "metadata": {},
   "source": [
    "## Exercises"
   ]
  },
  {
   "cell_type": "markdown",
   "metadata": {},
   "source": [
    "1. Run with equilibration (error)\n",
    "2. How to compute perturbation methanol -> ethane\n",
    "3. Advanced (Setup for methanol -> ethanol using only minimisation input)\n",
    "4. Advanced run some aspects of the simulation in vaccuum \n",
    "5. Atom mapping"
   ]
  }
 ],
 "metadata": {
  "anaconda-cloud": {},
  "kernelspec": {
   "display_name": "Python [default]",
   "language": "python",
   "name": "python3"
  },
  "language_info": {
   "codemirror_mode": {
    "name": "ipython",
    "version": 3
   },
   "file_extension": ".py",
   "mimetype": "text/x-python",
   "name": "python",
   "nbconvert_exporter": "python",
   "pygments_lexer": "ipython3",
   "version": "3.5.2"
  }
 },
 "nbformat": 4,
 "nbformat_minor": 2
}
