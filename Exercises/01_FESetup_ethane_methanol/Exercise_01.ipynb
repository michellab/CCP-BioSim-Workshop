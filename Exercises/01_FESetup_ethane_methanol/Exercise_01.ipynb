{
 "cells": [
  {
   "cell_type": "markdown",
   "metadata": {},
   "source": [
    "## Setting up a Hydration Free Energy Calculuation\n",
    "This notebook will guide you through how to use FESetup in order to run an alchemical free energy calculation.    \n",
    "\n",
    "\n",
    "The notebook forms part of the CCPBio-Sim workshop **Tackling Alchemistry with FESetup and Sire SOMD** run on the 10th of April 2018 at the University of Bristol.\n",
    "\n",
    "*Author: Anotnia Mey   \n",
    "Email: antonia.mey@ed.ac.uk*\n",
    "\n",
    "**Reading time of the document: xx mins**"
   ]
  },
  {
   "cell_type": "markdown",
   "metadata": {},
   "source": [
    "### Setting up the notebook with all necessary imports"
   ]
  },
  {
   "cell_type": "code",
   "execution_count": null,
   "metadata": {
    "collapsed": true
   },
   "outputs": [],
   "source": [
    "%pylab inline\n",
    "import nglview as nv"
   ]
  },
  {
   "cell_type": "markdown",
   "metadata": {},
   "source": [
    "### Setting the stage\n",
    "We want to compute the relative free energy of hydration between ethane and methanol. That is the free energy difference between hydrating an ethane molecule in water and a methanol molecule in water. It assumes that you had a look at the slides of lecture 1 or attended lecture1 (maybe youtube link here).\n",
    "\n",
    "Below you can see a thermodynamic cycle for the relative hydration free energy of ethane and methanol:\n",
    "![therm_cycle](images/Therm_cycle.png)\n",
    "\n",
    "We use FESetup to authomatically generate the perturbation information needed for running the alchemical free energy calcualtions."
   ]
  },
  {
   "cell_type": "markdown",
   "metadata": {},
   "source": [
    "### Visualise molecule\n",
    "\n",
    "Have a look in the `FESetup_01` directory. You will find a file called `morph.in` and a directory called `solute`. `morph.in` is the main input file and we will look at it more closely in a second. `solute` contains two further directories: `ethane` and `methanol` each containing a pdb structure file called `solute.pdb` containing the 3D structure of the two molecules we want to compute the relative hydration free energy difference.   \n",
    "\n",
    "Let's use nglview to look at the ethane molecule:"
   ]
  },
  {
   "cell_type": "code",
   "execution_count": null,
   "metadata": {
    "collapsed": true
   },
   "outputs": [],
   "source": [
    "view = nv.show_file('FESetup_01/solutes/ethane/solute.pdb')\n",
    "view"
   ]
  },
  {
   "cell_type": "markdown",
   "metadata": {},
   "source": [
    "**1. Task: load methanol into nglview as well**"
   ]
  },
  {
   "cell_type": "code",
   "execution_count": null,
   "metadata": {
    "collapsed": true
   },
   "outputs": [],
   "source": [
    "#Insert code for methanol here\n",
    "\n"
   ]
  },
  {
   "cell_type": "markdown",
   "metadata": {},
   "source": [
    "## FESetup\n",
    "Now, rather than just looking at the structure of these two molecules we want to set them up with FESetup such that they will be ready for running an alchemical free energy simulation. You can open a terminal and run FESetup from the command line by simply typing:   \n",
    "    ```FESetup```"
   ]
  },
  {
   "cell_type": "markdown",
   "metadata": {},
   "source": [
    "Or you can run things within the notebook. In order to access command line arguments in a notebook you can use the exclamation mark as an escape and the magic function %%capture to capture all output. "
   ]
  },
  {
   "cell_type": "code",
   "execution_count": null,
   "metadata": {
    "collapsed": true
   },
   "outputs": [],
   "source": [
    "%%capture info\n",
    "!FESetup "
   ]
  },
  {
   "cell_type": "markdown",
   "metadata": {},
   "source": [
    "The reason why it is useful to capture output is because sometimes quite a lot of output is generated. This is also the case for FESetup. If you run FESetup without providing it with an input file, it will list all possible config file options you might want to use. We can access the captured output by printing it in the following way:"
   ]
  },
  {
   "cell_type": "code",
   "execution_count": null,
   "metadata": {
    "collapsed": true
   },
   "outputs": [],
   "source": [
    "print (info.stdout)"
   ]
  },
  {
   "cell_type": "markdown",
   "metadata": {},
   "source": [
    "FESetup is a command line tool and you can pass it an input file defining what you would like to set up. Let's change to the directory `FESetup_01` in order to run our fist setup. "
   ]
  },
  {
   "cell_type": "code",
   "execution_count": null,
   "metadata": {
    "collapsed": true
   },
   "outputs": [],
   "source": [
    "cd FESetup_01/"
   ]
  },
  {
   "cell_type": "code",
   "execution_count": null,
   "metadata": {
    "collapsed": true
   },
   "outputs": [],
   "source": [
    "ls"
   ]
  },
  {
   "cell_type": "markdown",
   "metadata": {},
   "source": [
    "We will be working with ethane and methanol. Let's have a closer look at the inputfile `morph.in` provided."
   ]
  },
  {
   "cell_type": "code",
   "execution_count": null,
   "metadata": {
    "collapsed": true
   },
   "outputs": [],
   "source": [
    "!head -n 7 morph.in"
   ]
  },
  {
   "cell_type": "markdown",
   "metadata": {},
   "source": [
    "The first section consists of global directives. Important here are the two directives `AFE.tye=Sire` and `AFE.separate_vdw_elec = false`. The first one means that Sire compatible output is generated and the second one means that the simulation will be carried out using a single step perturbation, perturbing charges and van der Waals interactions at the same time. Later on we will also look at how to generate output for different simulation software."
   ]
  },
  {
   "cell_type": "code",
   "execution_count": null,
   "metadata": {
    "collapsed": true
   },
   "outputs": [],
   "source": [
    "!tail -n 19 morph.in"
   ]
  },
  {
   "cell_type": "markdown",
   "metadata": {},
   "source": [
    "For FESetup to understand what files to work on, a strict directory structure is used. `basdir` gives information where it can find all molecules files. Here the basedir is called `solutes`. In `solutes` you have the molecules ethane and methanol as indicated by the corresponding directory and the actual filename which should be the same for all solutes and is in this case `file.name = solute.pdb`. `molecules` defines the molecules that should actually be setup and just lists the directories where we have put the `solutes.pdb` files.\n",
    "\n",
    "Any directive that starts with `box.type` indicates that a solvated version of the molecule should be generated. FESetup also allows to run a minimisation straight away by using the different `min` directives. In the above example a minimisation for 100 steps using a restraint on non-solvent molecules of 10 will be run. \n",
    "\n",
    "To execute FESetup you either type into your terminal `FESetup morph.in` or execute the next cell."
   ]
  },
  {
   "cell_type": "code",
   "execution_count": null,
   "metadata": {
    "collapsed": true
   },
   "outputs": [],
   "source": [
    "!FESetup morph.in"
   ]
  },
  {
   "cell_type": "markdown",
   "metadata": {},
   "source": [
    "Let's have a look at the directory again. Some additional files have been generated!"
   ]
  },
  {
   "cell_type": "code",
   "execution_count": null,
   "metadata": {
    "collapsed": true
   },
   "outputs": [],
   "source": [
    "ls"
   ]
  },
  {
   "cell_type": "markdown",
   "metadata": {},
   "source": [
    "Directories with an underscore `_` are output directories that contain the relevant information for the simulation input. The most useful file is the generated logfile `eth-meth.log`. It contains all commands that were used in order to actually generate the output.  It also contains information whether a setup has failed or not. If you are familiar with AMBER setup tools you will find a lot of familiar looking commands. If you want you can use `nano` on the commandline in order to take a closer look. "
   ]
  },
  {
   "cell_type": "markdown",
   "metadata": {},
   "source": [
    "### Solvated molecules\n",
    "The generated directory `_ligands` contains the original pdb files in a box of water, found in `_ligands/ethane` and `_ligands/methanol`. Let's have a more detailed look at one of the directories. "
   ]
  },
  {
   "cell_type": "code",
   "execution_count": null,
   "metadata": {
    "collapsed": true
   },
   "outputs": [],
   "source": [
    "ls _ligands/methanol/"
   ]
  },
  {
   "cell_type": "markdown",
   "metadata": {},
   "source": [
    "If you wanted to run a simple MD simulation of methanol in water you can use the `solvated.rst7` (coordinate file) and `solvated.parm7` (topology file) files. The coordinate file contains the energy minimised coordinates as generated by the minimisation protocol in the `morph.in` file. But since we are interested in running an alchemical free energy perturbation from ethane to methanol `_perturbations` is actually the directory we are interested in. "
   ]
  },
  {
   "cell_type": "markdown",
   "metadata": {
    "collapsed": true
   },
   "source": [
    "**Task visualise the solvated molecule `_ligands/methanol/solvated.pdb` using nglview below**"
   ]
  },
  {
   "cell_type": "code",
   "execution_count": null,
   "metadata": {
    "collapsed": true
   },
   "outputs": [],
   "source": []
  },
  {
   "cell_type": "markdown",
   "metadata": {},
   "source": [
    "### Perturbation files\n",
    "Let's take a closer look at `_perturbations`. It has a subdirectory called `sire`, because we chose Sire to be the alchemical free energy simulation engine and that again has a subdirectory called `ethane~methanol` indicating the perturbation we want to simulate. "
   ]
  },
  {
   "cell_type": "code",
   "execution_count": null,
   "metadata": {
    "collapsed": true
   },
   "outputs": [],
   "source": [
    "ls _perturbations/sire/ethane~methanol/"
   ]
  },
  {
   "cell_type": "markdown",
   "metadata": {},
   "source": [
    "The files of interest are the `MORPH.onestep.pert` file, `vacuum.parm7` (topology), `vacuum.rst7` (coordinates) and in the directory `solvated`, the solution equivalent `solvated.parm7` and `solvated.rst7` files. The solution and vacuum files will be used to simulate the vacuum and solution leg of the thermodynamic cycle. Let's take a closer look at `MORPH.onestep.pert`"
   ]
  },
  {
   "cell_type": "code",
   "execution_count": null,
   "metadata": {
    "collapsed": true
   },
   "outputs": [],
   "source": [
    "!head -n11 _perturbations/sire/ethane~methanol/MORPH.onestep.pert"
   ]
  },
  {
   "cell_type": "markdown",
   "metadata": {},
   "source": [
    "It defines the initial and final atom types and their initial and final Lennard Jones parameters as well as partial charges. In the perturbation between ethane and methanol the first C atom (C1), will stay a C atom but the partial charges on the molecule will change because of the changed environment from initially having a methyl group attached to it to an OH group attached after the transformation. The second C atom will change to being an oxygen atom after the perturbation. So lets have a look at that atom in the `.pert` file. "
   ]
  },
  {
   "cell_type": "code",
   "execution_count": null,
   "metadata": {
    "collapsed": true
   },
   "outputs": [],
   "source": [
    "!sed -n '12,20p' _perturbations/sire/ethane~methanol/MORPH.onestep.pert"
   ]
  },
  {
   "cell_type": "markdown",
   "metadata": {},
   "source": [
    "You can now see how the initial atom type is `c3`, and the final atom type is `oh`, meaning that we are going from an sp3 hybridised carbon atom to an oxygen atom that is bonded to a hydrogen. The Lennard Jones terms change a little and the partial charges do too. The alchemical free energy software can then create a linear perturbation between the initial and final values to slowly morph from one to the other.  "
   ]
  },
  {
   "cell_type": "markdown",
   "metadata": {},
   "source": [
    "### Adding more perturbations\n",
    "Now we understand the output generated by FESetup lets see how we can change the input to get a different output. "
   ]
  },
  {
   "cell_type": "markdown",
   "metadata": {},
   "source": [
    "**Task: Can you modify the `morph.in` file in such a way that we not only generate a ethane to methanol, but also a methanol to ethane perturbation file**"
   ]
  },
  {
   "cell_type": "markdown",
   "metadata": {},
   "source": [
    "Using nano open morph.in and identify what you need to change in order to not only generate ethane > methanol, but also methanol > ethane perturbation. Hint: Lists of perturbations are separated by a comma. "
   ]
  },
  {
   "cell_type": "code",
   "execution_count": null,
   "metadata": {
    "collapsed": true
   },
   "outputs": [],
   "source": [
    "## Now run the modified file through FESetup add the requried code below\n"
   ]
  },
  {
   "cell_type": "markdown",
   "metadata": {},
   "source": [
    "We shoud now have an additional perturbation in the `_perturbations/sire` directory. "
   ]
  },
  {
   "cell_type": "code",
   "execution_count": null,
   "metadata": {
    "collapsed": true
   },
   "outputs": [],
   "source": [
    "ls _perturbations/sire"
   ]
  },
  {
   "cell_type": "markdown",
   "metadata": {},
   "source": [
    "**Task: visulatise the `vacuum.pdb` file using nglview of the new methanol~ethane perturbation**"
   ]
  },
  {
   "cell_type": "code",
   "execution_count": null,
   "metadata": {
    "collapsed": true
   },
   "outputs": [],
   "source": [
    "## add code to load vacuum.pdb into nglview\n",
    "\n"
   ]
  },
  {
   "cell_type": "markdown",
   "metadata": {},
   "source": [
    "Questions:\n",
    "- Why does the molecule look so weird, have we done something wrong?\n",
    "- Can you identify the atom types that are connected to oxygen atom? Think of what was covered in the lecture. "
   ]
  },
  {
   "cell_type": "markdown",
   "metadata": {},
   "source": [
    "### Equilibration in FESetup\n",
    "FESetup can also be used to straightaway equilibrate the solvation box with the solute in it. It may be desirable to run an equilibration protocol with FESetup, this can be done by adding equilibration information to the input file. For this purpose a second FESetup directory FESetup_02 has been prepared. Change to that directory and have a look at the `equilibrate.in` input file. "
   ]
  },
  {
   "cell_type": "code",
   "execution_count": null,
   "metadata": {
    "collapsed": true
   },
   "outputs": [],
   "source": [
    "cd ../FESetup_02/"
   ]
  },
  {
   "cell_type": "code",
   "execution_count": null,
   "metadata": {
    "collapsed": true
   },
   "outputs": [],
   "source": [
    "!sed -n '10,50p' equilibrate.in"
   ]
  },
  {
   "cell_type": "markdown",
   "metadata": {},
   "source": [
    "The file now contains a set of directives that will run a NVT simulation to heat the system to 300 K followed by an NPT simulation to equilibrate the density and then a protocol that will slowly release the restraint on the solute molecule in the NPT ensemble. Note however, how we have not specified any kind of morphing. It is often useful to not have the morph and equilibration happen in one go, because often you want to run the equilibrations individually in parallel on a cluster and then when completed actually run the morphing. "
   ]
  },
  {
   "cell_type": "code",
   "execution_count": null,
   "metadata": {
    "collapsed": true
   },
   "outputs": [],
   "source": [
    "# Insert code to run the equilibration. The calculation should run for about 2-3 minutes. \n",
    "\n"
   ]
  },
  {
   "cell_type": "markdown",
   "metadata": {},
   "source": [
    "**Do you get an error?** Can you trouble shoot what it might be?"
   ]
  },
  {
   "cell_type": "markdown",
   "metadata": {},
   "source": [
    "With the equilibration successfully run, we can now run the morphing. You should notice that there is no `_perturbations` directory that was created by FESetup. "
   ]
  },
  {
   "cell_type": "code",
   "execution_count": null,
   "metadata": {
    "collapsed": true
   },
   "outputs": [],
   "source": [
    "ls"
   ]
  },
  {
   "cell_type": "markdown",
   "metadata": {},
   "source": [
    "This step will be very quick. For this purpose we have a `morph.in` file again. Have a look at it. It is much shorter and mostly defines the type of simulation engine. In order to make sure that we also want to morph the solution phase and not just the vacuum phase is indicated by specifying the `box.type = rectangular` and `box.length = 12.0` directives. "
   ]
  },
  {
   "cell_type": "code",
   "execution_count": null,
   "metadata": {
    "collapsed": true
   },
   "outputs": [],
   "source": [
    "# Insert the code to then run the morphing\n",
    "\n"
   ]
  },
  {
   "cell_type": "markdown",
   "metadata": {},
   "source": [
    "Make sure that the perturbations were actually successfully generated. "
   ]
  },
  {
   "cell_type": "code",
   "execution_count": null,
   "metadata": {
    "collapsed": true
   },
   "outputs": [],
   "source": [
    "ls _perturbations/sire"
   ]
  },
  {
   "cell_type": "markdown",
   "metadata": {},
   "source": [
    "### Running simulation in vacuum\n",
    "We will now run a set of ethane to methanol simulations in vacuum using the `ethane~methanol` perturabtion. Let's change to the simulation directory. "
   ]
  },
  {
   "cell_type": "code",
   "execution_count": 29,
   "metadata": {},
   "outputs": [
    {
     "name": "stdout",
     "output_type": "stream",
     "text": [
      "/home/jovyan/CCP-BioSim-Workshop/Exercises/01_FESetup_ethane_methanol/simulation\n"
     ]
    }
   ],
   "source": [
    "cd ../simulation/"
   ]
  },
  {
   "cell_type": "markdown",
   "metadata": {},
   "source": [
    "There are some files prepared for you in the `simulation` directory.  Let's have a closer look at these:"
   ]
  },
  {
   "cell_type": "code",
   "execution_count": 31,
   "metadata": {},
   "outputs": [
    {
     "name": "stdout",
     "output_type": "stream",
     "text": [
      "\u001b[0m\u001b[01;34minput\u001b[0m/  \u001b[01;34moutput\u001b[0m/\r\n"
     ]
    }
   ],
   "source": [
    "ls "
   ]
  },
  {
   "cell_type": "markdown",
   "metadata": {},
   "source": [
    "So what do we need for input to run an alchemical free energy simulation? Basically a bunch of files we have generated with FESetup and a config file. To be precise:\n",
    "\n",
    "- a config file\n",
    "- a coordinate file\n",
    "- a topology file\n",
    "- a morph file\n",
    "\n",
    "Currently we only have the config file in the input directory:"
   ]
  },
  {
   "cell_type": "code",
   "execution_count": 33,
   "metadata": {},
   "outputs": [
    {
     "name": "stdout",
     "output_type": "stream",
     "text": [
      "MORPH.pert  sim.cfg  vacuum.parm7  vacuum.pdb  vacuum.rst7\r\n"
     ]
    }
   ],
   "source": [
    "ls input/"
   ]
  },
  {
   "cell_type": "markdown",
   "metadata": {},
   "source": [
    "Let's copy the ethane~methanol vacuum files we have generated with FESetup into the input directory:"
   ]
  },
  {
   "cell_type": "code",
   "execution_count": 37,
   "metadata": {
    "collapsed": true
   },
   "outputs": [],
   "source": [
    "!cp ../FESetup_01/_perturbations/sire/ethane~methanol/vacuum.* input/\n",
    "!cp ../FESetup_01/_perturbations/sire/ethane~methanol/MORPH*.pert input/MORPH.pert"
   ]
  },
  {
   "cell_type": "markdown",
   "metadata": {},
   "source": [
    "We now have all the requried input files:"
   ]
  },
  {
   "cell_type": "code",
   "execution_count": 38,
   "metadata": {},
   "outputs": [
    {
     "name": "stdout",
     "output_type": "stream",
     "text": [
      "MORPH.pert  sim.cfg  vacuum.parm7  vacuum.pdb  vacuum.rst7\r\n"
     ]
    }
   ],
   "source": [
    "ls input/"
   ]
  },
  {
   "cell_type": "markdown",
   "metadata": {},
   "source": [
    "The `parm7` file is the topology file and the `rst7` file is the coordinate file in standard AMBER format. The `pdb` file we don't really need, but it is nice to have a quick pdb structure available for visualisation. The `MORPH.pert` is the important file for the perturbation as discussed above. Let's just look briefly at the config file though:"
   ]
  },
  {
   "cell_type": "code",
   "execution_count": 40,
   "metadata": {},
   "outputs": [
    {
     "name": "stdout",
     "output_type": "stream",
     "text": [
      "nmoves = 10000 \r\n",
      "ncycles = 5 \r\n",
      "buffered coordinates frequency = 500 \r\n",
      "save coordinates = True \r\n",
      "timestep = 2*femtosecond \r\n",
      "constraint = hbonds-notperturbed\r\n",
      "cutoff type = nocutoff \r\n",
      "barostat = False \r\n",
      "andersen = True \r\n",
      "energy frequency = 100 \r\n",
      "precision = mixed \r\n",
      "minimise = True \r\n",
      "equilibrate = False \r\n",
      "center solute = True\r\n",
      "minimal coordinate saving = True\r\n",
      "lambda array = 0.00, 0.30, 0.60, 1.00\r\n"
     ]
    }
   ],
   "source": [
    "!head -n20 input/sim.cfg"
   ]
  },
  {
   "cell_type": "markdown",
   "metadata": {},
   "source": [
    "We will be running a `nmoves`\\*`ncycles`\\*`timestep` simultation, i.e. in this case 100 ps. Because we are in vacuum we don't use a periodic box and have no barostat, but set an Anderson thermostat. The default simulation temperature is 298 K. However you could set the temperature yourself. We will minimise the molecule again before simulation as indicated by `minimise=True`. The most important information again is the `lambda array`. In this case we will simulate at 4 different lambda values with the MORPH file being used to create a linear interpolation of intermediates. If you want know the defaults of all config file options and what all available config file options are for running the alchemical free energy simulation then you can simply run:"
   ]
  },
  {
   "cell_type": "code",
   "execution_count": 42,
   "metadata": {},
   "outputs": [
    {
     "name": "stdout",
     "output_type": "stream",
     "text": [
      "Starting somd-freenrg: number of threads equals 8\n",
      "\n",
      "andersen frequency = 10.0\n",
      "Collision frequency in units of (1/ps)\n",
      "\n",
      "barostat = True\n",
      "Whether or not to use a barostat (needed for NPT simulation).\n",
      "\n",
      "barostat frequency = 25\n",
      "Number of steps before attempting box changes if using the barostat.\n",
      "\n",
      "buffered coordinates frequency = 1\n",
      "The number of time steps between saving of coordinates during a cycle of MD. 0 disables buffering.\n",
      "\n",
      "center of mass frequency = 10\n",
      "Frequency of which the system center of mass motion is removed.\n",
      "\n",
      "center solute = False\n",
      "Whether or not to centre the centre of geometry of the solute in the box.\n",
      "\n",
      "combining rules = arithmetic\n",
      "Combining rules to use for the non-bonded interactions.\n",
      "\n",
      "constraint = hbonds\n",
      "The constraint model to use during dynamics.\n",
      "\n",
      "coulomb power = 0\n",
      "Value of the Coulombic soft-core parameter.\n",
      "\n",
      "crdfile = SYSTEM.crd\n",
      "File name of the coordinate file containing the coordinates of the system to be simulated.\n",
      "\n",
      "cutoff distance = 10 angstrom\n",
      "The cutoff distance to use for the non-bonded interactions.\n",
      "\n",
      "cutoff type = cutoffperiodic\n",
      "The cutoff method to use during the simulation.\n",
      "\n",
      "dcd root = traj\n",
      "Root of the filename of the output DCD trajectory files.\n",
      "\n",
      "delta_lambda = 0.001\n",
      "Value of the lambda interval used to evaluate free energy gradients by finite difference.\n",
      "\n",
      "distance restraints dictionary = {}\n",
      "Dictionary of pair of atoms whose distance is restrained, and restraint parameters. Syntax is {(atom0,atom1):(reql, kl, Dl)} where atom0, atom1 are atomic indices. reql the equilibrium distance. Kl the force constant of the restraint. D the flat bottom radius. WARNING: PBC distance checks not implemented, avoid restraining pair of atoms that may diffuse out of the box.\n",
      "\n",
      "energy frequency = 1\n",
      "The number of time steps between evaluation of free energy gradients.\n",
      "\n",
      "equilibrate = False\n",
      "Whether or not to perform equilibration before dynamics.\n",
      "\n",
      "equilibration iterations = 2000\n",
      "Number of equilibration steps to perform.\n",
      "\n",
      "equilibration timestep = 0.0005 ps\n",
      "Timestep to use during equilibration.\n",
      "\n",
      "freeze residues = False\n",
      "Whether or not to freeze certain residues.\n",
      "\n",
      "frozen residues = ['LGR', 'SIT', 'NEG', 'POS']\n",
      "List of residues to freeze if 'freeze residues' is True.\n",
      "\n",
      "gpu = 0\n",
      "The device ID of the GPU on which to run the simulation.\n",
      "\n",
      "heavy mass restraint = 1.1\n",
      "Only restrain solute atoms whose mass is greater than this value.\n",
      "\n",
      "hydrogen mass repartitioning factor = None\n",
      "If not None and is a number, all hydrogen atoms in the molecule will have their mass increased by the input factor. The atomic mass of the heavy atom bonded to the hydrogen is decreased to keep the mass constant.\n",
      "\n",
      "integrator = leapfrogverlet\n",
      "The integrator to use for dynamics.\n",
      "\n",
      "inverse friction = 0.1 ps\n",
      "Inverse friction time for the Langevin thermostat.\n",
      "\n",
      "lambda array = []\n",
      "Array with all lambda values lambda_val needs to be part of the array.\n",
      "\n",
      "lambda_val = 0.0\n",
      "Value of the lambda parameter at which to evaluate free energy gradients.\n",
      "\n",
      "lj dispersion = False\n",
      "Whether or not to calculate and include the LJ dispersion term.\n",
      "\n",
      "minimal coordinate saving = False\n",
      "Reduce the number of coordiantes writing for stateswith lambda in ]0,1[\n",
      "\n",
      "minimise = False\n",
      "Whether or not to perform minimization before the simulation.\n",
      "\n",
      "minimise maximum iterations = 1000\n",
      "Maximum number of iterations for minimization.\n",
      "\n",
      "minimise tolerance = 1\n",
      "Tolerance used to know when minimization is complete.\n",
      "\n",
      "morphfile = MORPH.pert\n",
      "Name of the morph file containing the perturbation to apply to the system.\n",
      "\n",
      "ncycles = 1\n",
      "The number of MD cycles. The total elapsed time will be nmoves*ncycles*timestep\n",
      "\n",
      "ncycles_per_snap = 1\n",
      "Number of cycles between saving snapshots\n",
      "\n",
      "nmoves = 1000\n",
      "Number of Molecular Dynamics moves to be performed during the simulation.\n",
      "\n",
      "outdata_file = simfile.dat\n",
      "Filename that records all output needed for the free energy analysis\n",
      "\n",
      "perturbed residue number = 1\n",
      "The residue number of the molecule to morph.\n",
      "\n",
      "platform = CUDA\n",
      "Which OpenMM platform should be used to perform the dynamics.\n",
      "\n",
      "precision = mixed\n",
      "The floating point precision model to use during dynamics.\n",
      "\n",
      "pressure = 1 atm\n",
      "Simulation pressure\n",
      "\n",
      "random seed = None\n",
      "Random number seed. Set this if you want to have reproducible simulations.\n",
      "\n",
      "reaction field dielectric = 78.3\n",
      "Dielectric constant to use if the reaction field cutoff method is used.\n",
      "\n",
      "restart file = sim_restart.s3\n",
      "Filename of the restart file to use to save progress during the simulation.\n",
      "\n",
      "restraint force constant = 100.0\n",
      "Force constant to use for the harmonic restaints.\n",
      "\n",
      "s3file = SYSTEM.s3\n",
      "Filename for the system state file. The system state after topology and and coordinates were loaded are saved in this file.\n",
      "\n",
      "save coordinates = True\n",
      "Whether or not to save coordinates.\n",
      "\n",
      "shift delta = 2.0\n",
      "Value of the Lennard-Jones soft-core parameter.\n",
      "\n",
      "temperature = 25 C\n",
      "Simulation temperature\n",
      "\n",
      "thermostat = True\n",
      "Whether or not to use the Andersen thermostat (needed for NVT or NPT simulation).\n",
      "\n",
      "time to skip = 0 ps\n",
      "Time to skip in picoseconds\n",
      "\n",
      "timestep = 0.002 ps\n",
      "Timestep for the dynamics simulation.\n",
      "\n",
      "topfile = SYSTEM.top\n",
      "File name of the topology file containing the system to be simulated.\n",
      "\n",
      "unrestrained residues = ['WAT', 'HOH']\n",
      "Names of residues that are never restrained.\n",
      "\n",
      "use distance restraints = False\n",
      "Whether or not to use restraints distances between pairs of atoms.\n",
      "\n",
      "use restraints = False\n",
      "Whether or not to use harmonic restaints on the solute atoms.\n",
      "\n",
      "verbose = False\n",
      "Print debug output\n",
      "\n"
     ]
    }
   ],
   "source": [
    "!somd-freenrg --help-config"
   ]
  },
  {
   "cell_type": "markdown",
   "metadata": {},
   "source": [
    "Next, we can look at the ouptput directory which has been set up already for convenience."
   ]
  },
  {
   "cell_type": "code",
   "execution_count": 46,
   "metadata": {},
   "outputs": [
    {
     "name": "stdout",
     "output_type": "stream",
     "text": [
      "\u001b[0m\u001b[01;34mlambda-0.00\u001b[0m/  \u001b[01;34mlambda-0.30\u001b[0m/  \u001b[01;34mlambda-0.60\u001b[0m/  \u001b[01;34mlambda-1.00\u001b[0m/  run_simulation.sh\r\n"
     ]
    }
   ],
   "source": [
    "ls output"
   ]
  },
  {
   "cell_type": "markdown",
   "metadata": {},
   "source": [
    "Four directories for the output of all the different lambda simlations has been setup already and are currently empty. A convenient script to serially execute simulations is also provided with `run_simulation.sh`. "
   ]
  },
  {
   "cell_type": "code",
   "execution_count": 47,
   "metadata": {},
   "outputs": [
    {
     "name": "stdout",
     "output_type": "stream",
     "text": [
      "#!/bin/bash\r\n",
      "\r\n",
      "for l in 0.00 0.30 0.60 1.00\r\n",
      "do\r\n",
      "cd lambda-$l\r\n",
      "somd-freenrg -C ../../input/sim.cfg -c ../../input/vacuum.rst7 -t ../../input/vacuum.parm7 -m ../../input/MORPH.pert -p CPU -l $l\r\n",
      "cd ../\r\n",
      "done \r\n"
     ]
    }
   ],
   "source": [
    "!head output/run_simulation.sh"
   ]
  },
  {
   "cell_type": "markdown",
   "metadata": {},
   "source": [
    "In `run_simulation.sh` we are looping over the four lambda directories and run an alchemical free energy calculation with the input. The executable is called `somd=freenrg` and forms part of Sire. The flag `-C` indicates the config file that is being passed, the flag `-c` the coordinate file `-t` the topology file and `-m` the morph file. The platform used for the simulation is indicated by `-p`. Normally it is advised to run simulations on GPUs and either use `CUDA` or `OpenCL` as a platform. These are currently not available on the cloud we are running on. For this reason we are using the VERY slow `CPU` platform. If you go back and want to actually run some meaningful simulations make sure these are done on GPUs such as the Nvidia GTX series. The last flag `-l` passes the current lambda value of the simulation.  \n",
    "\n",
    "We can now go ahead and run our short set of simulations. They should run for around 15 minutes. "
   ]
  },
  {
   "cell_type": "code",
   "execution_count": 48,
   "metadata": {},
   "outputs": [
    {
     "name": "stdout",
     "output_type": "stream",
     "text": [
      "/home/jovyan/CCP-BioSim-Workshop/Exercises/01_FESetup_ethane_methanol/simulation/output\n"
     ]
    }
   ],
   "source": [
    "cd output"
   ]
  },
  {
   "cell_type": "code",
   "execution_count": 49,
   "metadata": {},
   "outputs": [
    {
     "name": "stdout",
     "output_type": "stream",
     "text": [
      "Starting somd-freenrg: number of threads equals 8\n",
      "\n",
      "Loading configuration information from file ../../input/sim.cfg\n",
      "\n",
      "Running a somd-freenrg calculation using files ../../input/vacuum.parm7, ../../input/vacuum.rst7 and ../../input/MORPH.pert.\n",
      "Using parameters:\n",
      "===============\n",
      "andersen == True\n",
      "barostat == False\n",
      "buffered coordinates frequency == 500\n",
      "center solute == True\n",
      "constraint == hbonds-notperturbed\n",
      "crdfile == ../../input/vacuum.rst7\n",
      "cutoff type == nocutoff\n",
      "energy frequency == 100\n",
      "equilibrate == False\n",
      "lambda array == (0.0, 0.3, 0.6, 1.0)\n",
      "lambda_val == 0.0\n",
      "minimal coordinate saving == True\n",
      "minimise == True\n",
      "morphfile == ../../input/MORPH.pert\n",
      "ncycles == 5\n",
      "nmoves == 10000\n",
      "platform == CPU\n",
      "precision == mixed\n",
      "save coordinates == True\n",
      "timestep == 0.002 ps\n",
      "topfile == ../../input/vacuum.parm7\n",
      "===============\n",
      "### Running Single Topology Molecular Dynamics Free Energy on jupyter-ad44563a-2d7a4c-2d42ac-2d8dd0-2dda77190744a9 ###\n",
      "###================Setting up calculation=====================###\n",
      "New run. Loading input and creating restart\n",
      "lambda is 0.0\n",
      "Create the System...\n",
      "Selecting dummy groups\n",
      "Creating force fields... \n",
      "Setting up the simulation with random seed 163864\n",
      "Setting up moves...\n",
      "Created a MD move that uses OpenMM for all molecules on 0 \n",
      "Generated random seed number 163864 \n",
      "Saving restart\n",
      "Setting up sim file. \n",
      "There are 8 atoms in the group \n",
      "###===========================================================###\n",
      "\n",
      "###=======================Minimisation========================###\n",
      "Running minimisation.\n",
      "Energy before the minimisation: 1.42065 kcal mol-1\n",
      "Tolerance for minimisation: 1\n",
      "Maximum number of minimisation iterations: 1000\n",
      "Traceback (most recent call last):\n",
      "  File \"/opt/conda/pkgs/sire-2018.1.0/share/Sire/scripts/somd-freenrg.py\", line 146, in <module>\n",
      "    OpenMMMD.runFreeNrg(params)\n",
      "  File \"/opt/conda/lib/python3.5/site-packages/Sire/Tools/__init__.py\", line 172, in inner\n",
      "    retval = func()\n",
      "  File \"/opt/conda/lib/python3.5/site-packages/Sire/Tools/OpenMMMD.py\", line 1619, in runFreeNrg\n",
      "    system = integrator.minimiseEnergy(system, minimise_tol.val, minimise_max_iter.val)\n",
      "RuntimeError: There is no registered Platform called \"CPU\"\n",
      "Starting somd-freenrg: number of threads equals 8\n",
      "\n",
      "Loading configuration information from file ../../input/sim.cfg\n",
      "\n",
      "Running a somd-freenrg calculation using files ../../input/vacuum.parm7, ../../input/vacuum.rst7 and ../../input/MORPH.pert.\n",
      "Using parameters:\n",
      "===============\n",
      "andersen == True\n",
      "barostat == False\n",
      "buffered coordinates frequency == 500\n",
      "center solute == True\n",
      "constraint == hbonds-notperturbed\n",
      "crdfile == ../../input/vacuum.rst7\n",
      "cutoff type == nocutoff\n",
      "energy frequency == 100\n",
      "equilibrate == False\n",
      "lambda array == (0.0, 0.3, 0.6, 1.0)\n",
      "lambda_val == 0.3\n",
      "minimal coordinate saving == True\n",
      "minimise == True\n",
      "morphfile == ../../input/MORPH.pert\n",
      "ncycles == 5\n",
      "nmoves == 10000\n",
      "platform == CPU\n",
      "precision == mixed\n",
      "save coordinates == True\n",
      "timestep == 0.002 ps\n",
      "topfile == ../../input/vacuum.parm7\n",
      "===============\n",
      "### Running Single Topology Molecular Dynamics Free Energy on jupyter-ad44563a-2d7a4c-2d42ac-2d8dd0-2dda77190744a9 ###\n",
      "###================Setting up calculation=====================###\n",
      "New run. Loading input and creating restart\n",
      "lambda is 0.3\n",
      "Create the System...\n",
      "Selecting dummy groups\n",
      "Creating force fields... \n",
      "Setting up the simulation with random seed 925542\n",
      "Setting up moves...\n",
      "Created a MD move that uses OpenMM for all molecules on 0 \n",
      "Generated random seed number 925542 \n",
      "Saving restart\n",
      "Setting up sim file. \n",
      "There are 8 atoms in the group \n",
      "###===========================================================###\n",
      "\n",
      "###=======================Minimisation========================###\n",
      "Running minimisation.\n",
      "Energy before the minimisation: 2.61468 kcal mol-1\n",
      "Tolerance for minimisation: 1\n",
      "Maximum number of minimisation iterations: 1000\n",
      "Traceback (most recent call last):\n",
      "  File \"/opt/conda/pkgs/sire-2018.1.0/share/Sire/scripts/somd-freenrg.py\", line 146, in <module>\n",
      "    OpenMMMD.runFreeNrg(params)\n",
      "  File \"/opt/conda/lib/python3.5/site-packages/Sire/Tools/__init__.py\", line 172, in inner\n",
      "    retval = func()\n",
      "  File \"/opt/conda/lib/python3.5/site-packages/Sire/Tools/OpenMMMD.py\", line 1619, in runFreeNrg\n",
      "    system = integrator.minimiseEnergy(system, minimise_tol.val, minimise_max_iter.val)\n",
      "RuntimeError: There is no registered Platform called \"CPU\"\n",
      "Starting somd-freenrg: number of threads equals 8\n",
      "\n",
      "Loading configuration information from file ../../input/sim.cfg\n",
      "\n",
      "Running a somd-freenrg calculation using files ../../input/vacuum.parm7, ../../input/vacuum.rst7 and ../../input/MORPH.pert.\n",
      "Using parameters:\n",
      "===============\n",
      "andersen == True\n",
      "barostat == False\n",
      "buffered coordinates frequency == 500\n",
      "center solute == True\n",
      "constraint == hbonds-notperturbed\n",
      "crdfile == ../../input/vacuum.rst7\n",
      "cutoff type == nocutoff\n",
      "energy frequency == 100\n",
      "equilibrate == False\n",
      "lambda array == (0.0, 0.3, 0.6, 1.0)\n",
      "lambda_val == 0.6\n",
      "minimal coordinate saving == True\n",
      "minimise == True\n",
      "morphfile == ../../input/MORPH.pert\n",
      "ncycles == 5\n",
      "nmoves == 10000\n",
      "platform == CPU\n",
      "precision == mixed\n",
      "save coordinates == True\n",
      "timestep == 0.002 ps\n",
      "topfile == ../../input/vacuum.parm7\n",
      "===============\n",
      "### Running Single Topology Molecular Dynamics Free Energy on jupyter-ad44563a-2d7a4c-2d42ac-2d8dd0-2dda77190744a9 ###\n",
      "###================Setting up calculation=====================###\n",
      "New run. Loading input and creating restart\n",
      "lambda is 0.6\n",
      "Create the System...\n",
      "Selecting dummy groups\n",
      "Creating force fields... \n",
      "Setting up the simulation with random seed 826122\n",
      "Setting up moves...\n",
      "Created a MD move that uses OpenMM for all molecules on 0 \n",
      "Generated random seed number 826122 \n",
      "Saving restart\n",
      "Setting up sim file. \n",
      "There are 8 atoms in the group \n",
      "###===========================================================###\n",
      "\n",
      "###=======================Minimisation========================###\n",
      "Running minimisation.\n",
      "Energy before the minimisation: 6.07659 kcal mol-1\n",
      "Tolerance for minimisation: 1\n",
      "Maximum number of minimisation iterations: 1000\n",
      "Traceback (most recent call last):\n",
      "  File \"/opt/conda/pkgs/sire-2018.1.0/share/Sire/scripts/somd-freenrg.py\", line 146, in <module>\n",
      "    OpenMMMD.runFreeNrg(params)\n",
      "  File \"/opt/conda/lib/python3.5/site-packages/Sire/Tools/__init__.py\", line 172, in inner\n",
      "    retval = func()\n",
      "  File \"/opt/conda/lib/python3.5/site-packages/Sire/Tools/OpenMMMD.py\", line 1619, in runFreeNrg\n",
      "    system = integrator.minimiseEnergy(system, minimise_tol.val, minimise_max_iter.val)\n",
      "RuntimeError: There is no registered Platform called \"CPU\"\n",
      "Starting somd-freenrg: number of threads equals 8\n",
      "\n",
      "Loading configuration information from file ../../input/sim.cfg\n",
      "\n",
      "Running a somd-freenrg calculation using files ../../input/vacuum.parm7, ../../input/vacuum.rst7 and ../../input/MORPH.pert.\n",
      "Using parameters:\n",
      "===============\n",
      "andersen == True\n",
      "barostat == False\n",
      "buffered coordinates frequency == 500\n",
      "center solute == True\n",
      "constraint == hbonds-notperturbed\n",
      "crdfile == ../../input/vacuum.rst7\n",
      "cutoff type == nocutoff\n",
      "energy frequency == 100\n",
      "equilibrate == False\n",
      "lambda array == (0.0, 0.3, 0.6, 1.0)\n",
      "lambda_val == 1.0\n",
      "minimal coordinate saving == True\n",
      "minimise == True\n",
      "morphfile == ../../input/MORPH.pert\n",
      "ncycles == 5\n",
      "nmoves == 10000\n",
      "platform == CPU\n",
      "precision == mixed\n",
      "save coordinates == True\n",
      "timestep == 0.002 ps\n",
      "topfile == ../../input/vacuum.parm7\n",
      "===============\n",
      "### Running Single Topology Molecular Dynamics Free Energy on jupyter-ad44563a-2d7a4c-2d42ac-2d8dd0-2dda77190744a9 ###\n",
      "###================Setting up calculation=====================###\n",
      "New run. Loading input and creating restart\n",
      "lambda is 1.0\n",
      "Create the System...\n",
      "Selecting dummy groups\n",
      "Creating force fields... \n",
      "Setting up the simulation with random seed 178705\n",
      "Setting up moves...\n",
      "Created a MD move that uses OpenMM for all molecules on 0 \n",
      "Generated random seed number 178705 \n",
      "Saving restart\n",
      "Setting up sim file. \n",
      "There are 8 atoms in the group \n",
      "###===========================================================###\n",
      "\n",
      "###=======================Minimisation========================###\n",
      "Running minimisation.\n",
      "Energy before the minimisation: 14.9517 kcal mol-1\n",
      "Tolerance for minimisation: 1\n",
      "Maximum number of minimisation iterations: 1000\n",
      "Traceback (most recent call last):\n",
      "  File \"/opt/conda/pkgs/sire-2018.1.0/share/Sire/scripts/somd-freenrg.py\", line 146, in <module>\n",
      "    OpenMMMD.runFreeNrg(params)\n",
      "  File \"/opt/conda/lib/python3.5/site-packages/Sire/Tools/__init__.py\", line 172, in inner\n",
      "    retval = func()\n",
      "  File \"/opt/conda/lib/python3.5/site-packages/Sire/Tools/OpenMMMD.py\", line 1619, in runFreeNrg\n",
      "    system = integrator.minimiseEnergy(system, minimise_tol.val, minimise_max_iter.val)\n",
      "RuntimeError: There is no registered Platform called \"CPU\"\n"
     ]
    }
   ],
   "source": [
    "!bash run_simulation.sh"
   ]
  },
  {
   "cell_type": "markdown",
   "metadata": {},
   "source": [
    "**Well done! You have now started running a short simulation with a free energy perturbation in vacuum, let's go and have a tea/coffe while we wait for this to finish!**"
   ]
  },
  {
   "cell_type": "markdown",
   "metadata": {},
   "source": [
    "## What has been generated?\n",
    "Each lamabda directory now contains relevant output. You can use NGLview to visualise an intermediate lambda trajectory for example. "
   ]
  },
  {
   "cell_type": "code",
   "execution_count": null,
   "metadata": {
    "collapsed": true
   },
   "outputs": [],
   "source": [
    "import MDAnalysis as mda\n",
    "coor_file = '../input/vacuum.pdb'\n",
    "trajectory_file = 'lambda-0.30/traj.traj000000001.dcd'\n",
    "u = mda.Universe(coor_file, trajectory_file)\n",
    "ethane = u.select_atoms('all')\n",
    "view = nv.show_mdanalysis(ethane)"
   ]
  },
  {
   "cell_type": "code",
   "execution_count": null,
   "metadata": {
    "collapsed": true
   },
   "outputs": [],
   "source": []
  }
 ],
 "metadata": {
  "anaconda-cloud": {},
  "kernelspec": {
   "display_name": "Python [default]",
   "language": "python",
   "name": "python3"
  },
  "language_info": {
   "codemirror_mode": {
    "name": "ipython",
    "version": 3
   },
   "file_extension": ".py",
   "mimetype": "text/x-python",
   "name": "python",
   "nbconvert_exporter": "python",
   "pygments_lexer": "ipython3",
   "version": "3.5.2"
  }
 },
 "nbformat": 4,
 "nbformat_minor": 2
}
