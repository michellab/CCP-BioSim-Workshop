{
 "cells": [
  {
   "cell_type": "markdown",
   "metadata": {},
   "source": [
    "## Setting up a Hydration Free Energy Calculuation\n",
    "This notebook will guide you through how to use FESetup in order to run an alchemical free energy calculation.    \n",
    "\n",
    "\n",
    "The notebook forms part of the CCPBio-Sim workshop **Tackling Alchemistry with FESetup and Sire SOMD** run on the 10th of April 2018 at the University of Bristol.\n",
    "\n",
    "*Author: Anotnia Mey   \n",
    "Email: antonia.mey@ed.ac.uk*\n",
    "\n",
    "**Reading time of the document: xx mins**"
   ]
  },
  {
   "cell_type": "markdown",
   "metadata": {},
   "source": [
    "### Setting up the notebook with all necessary imports"
   ]
  },
  {
   "cell_type": "code",
   "execution_count": 1,
   "metadata": {},
   "outputs": [
    {
     "name": "stdout",
     "output_type": "stream",
     "text": [
      "Populating the interactive namespace from numpy and matplotlib\n"
     ]
    }
   ],
   "source": [
    "%pylab inline\n",
    "import nglview as nv"
   ]
  },
  {
   "cell_type": "markdown",
   "metadata": {},
   "source": [
    "### Setting the stage\n",
    "We want to compute the relative free energy of hydration between ethane and methanol. That is the free energy difference between hydrating an ethane molecule in water and a methanol molecule in water. It assumes that you had a look at the slides of lecture 1 or attended lecture1 (maybe youtube link here).\n",
    "\n",
    "Below you can see a thermodynamic cycle for the relative hydration free energy of ethane and methanol:\n",
    "![therm_cycle](images/Therm_cycle.png)\n",
    "\n",
    "We use FESetup to authomatically generate the perturbation information needed for running the alchemical free energy calcualtions."
   ]
  },
  {
   "cell_type": "markdown",
   "metadata": {},
   "source": [
    "### Visualise molecule\n",
    "\n",
    "Have a look in the `FESetup_01` directory. You will find a file called `morph.in` and a directory called `solute`. `morph.in` is the main input file and we will look at it more closely in a second. `solute` contains two further directories: `ethane` and `methanol` each containing a pdb structure file called `solute.pdb` containing the 3D structure of the two molecules we want to compute the relative hydration free energy difference.   \n",
    "\n",
    "Let's use nglview to look at the ethane molecule:"
   ]
  },
  {
   "cell_type": "code",
   "execution_count": 2,
   "metadata": {},
   "outputs": [
    {
     "data": {
      "application/vnd.jupyter.widget-view+json": {
       "model_id": "75e5e4073cb3475b86589941657c057d",
       "version_major": 2,
       "version_minor": 0
      },
      "text/plain": [
       "NGLWidget()"
      ]
     },
     "metadata": {},
     "output_type": "display_data"
    }
   ],
   "source": [
    "view = nv.show_file('FESetup_01/solutes/ethane/solute.pdb')\n",
    "view"
   ]
  },
  {
   "cell_type": "markdown",
   "metadata": {},
   "source": [
    "**1. Task: load methanol into nglview as well**"
   ]
  },
  {
   "cell_type": "code",
   "execution_count": null,
   "metadata": {
    "collapsed": true
   },
   "outputs": [],
   "source": [
    "#Insert code for methanol here\n",
    "\n"
   ]
  },
  {
   "cell_type": "markdown",
   "metadata": {},
   "source": [
    "## FESetup\n",
    "Now, rather than just looking at the strucutre of these two molecules we want to set them up with FESetup such that they will be ready for running an alchemical free energy simulation. You can open a terminal and run FESetup from the command line by simply typing:   \n",
    "    ```FESetup```"
   ]
  },
  {
   "cell_type": "markdown",
   "metadata": {},
   "source": [
    "Or you can run things within the notebook. In order to access command line arguments in a notebook you can use the exclamation mark as an escape and the magic function %%cpature to capture all output. "
   ]
  },
  {
   "cell_type": "code",
   "execution_count": 6,
   "metadata": {},
   "outputs": [],
   "source": [
    "%%capture info\n",
    "!/home/ppxasjsm/Software/FESetup1.2.1/FESetup64/bin/FESetup "
   ]
  },
  {
   "cell_type": "markdown",
   "metadata": {},
   "source": [
    "The reason why it is useful to capture output is because sometimes quite a lot of output is generated. This is also the case for FESetup. if you run FESetup without providing it with an input file, it will list all possible config file options you might want to use. We can access the captured output by printing it in the following way:"
   ]
  },
  {
   "cell_type": "code",
   "execution_count": 8,
   "metadata": {},
   "outputs": [
    {
     "name": "stdout",
     "output_type": "stream",
     "text": [
      "\r\n",
      "=== FESetup release 1.2.1, SUI version: 0.8.3 ===\r\n",
      "\r\n",
      "Please cite: HH Loeffler, J Michel, C Woods, J Chem Inf Mod, 55, 2485\r\n",
      "             DOI 10.1021/acs.jcim.5b00368\r\n",
      "For more information please visit http://www.ccpbiosim.ac.uk/fesetup/\r\n",
      "\r\n",
      "[protein]\r\n",
      "align_axes = False\r\n",
      "basedir = (empty)\r\n",
      "box.length = 10.0\r\n",
      "box.type = (empty)\r\n",
      "file.name = protein.pdb\r\n",
      "ions.conc = 0.0\r\n",
      "ions.dens = 1.0\r\n",
      "md.constT.T = 300.0\r\n",
      "md.constT.nsteps = 0\r\n",
      "md.constT.p = 1.0\r\n",
      "md.constT.restr_force = 10.0\r\n",
      "md.constT.restraint = notsolvent\r\n",
      "md.heat.T = 300.0\r\n",
      "md.heat.nsteps = 0\r\n",
      "md.heat.p = 1.0\r\n",
      "md.heat.restr_force = 10.0\r\n",
      "md.heat.restraint = notsolvent\r\n",
      "md.press.T = 300.0\r\n",
      "md.press.nsteps = 0\r\n",
      "md.press.p = 1.0\r\n",
      "md.press.restr_force = 10.0\r\n",
      "md.press.restraint = notsolvent\r\n",
      "md.relax.T = 300.0\r\n",
      "md.relax.nrestr = 0\r\n",
      "md.relax.nsteps = 0\r\n",
      "md.relax.p = 1.0\r\n",
      "md.relax.restraint = notsolvent\r\n",
      "min.ncyc = 10\r\n",
      "min.nsteps = 0\r\n",
      "min.restr_force = 10.0\r\n",
      "min.restraint = notsolvent\r\n",
      "molecules = (empty)\r\n",
      "neutralize = False\r\n",
      "propka = False\r\n",
      "propka.pH = 7.0\r\n",
      "\r\n",
      "[globals]\r\n",
      "AFE.separate_vdw_elec = True\r\n",
      "AFE.type = Sire\r\n",
      "FE_type = (empty)\r\n",
      "MC_prep = False\r\n",
      "ff_addons = \r\n",
      "forcefield = amber, ff14SB, tip3p, hfe\r\n",
      "gaff = gaff1\r\n",
      "logfile = dGprep.log\r\n",
      "mcs.match_by = (empty)\r\n",
      "mcs.timeout = 60\r\n",
      "mdengine = amber, sander\r\n",
      "mdengine.postfix = (empty)\r\n",
      "mdengine.prefix = (empty)\r\n",
      "overwrite = False\r\n",
      "parmchk_version = 2\r\n",
      "remake = False\r\n",
      "softcore_type = ignored\r\n",
      "user_params = False\r\n",
      "\r\n",
      "[complex]\r\n",
      "align_axes = False\r\n",
      "box.length = 10.0\r\n",
      "box.type = (empty)\r\n",
      "ions.conc = 0.0\r\n",
      "ions.dens = 1.0\r\n",
      "md.constT.T = 300.0\r\n",
      "md.constT.nsteps = 0\r\n",
      "md.constT.p = 1.0\r\n",
      "md.constT.restr_force = 10.0\r\n",
      "md.constT.restraint = notsolvent\r\n",
      "md.heat.T = 300.0\r\n",
      "md.heat.nsteps = 0\r\n",
      "md.heat.p = 1.0\r\n",
      "md.heat.restr_force = 10.0\r\n",
      "md.heat.restraint = notsolvent\r\n",
      "md.press.T = 300.0\r\n",
      "md.press.nsteps = 0\r\n",
      "md.press.p = 1.0\r\n",
      "md.press.restr_force = 10.0\r\n",
      "md.press.restraint = notsolvent\r\n",
      "md.relax.T = 300.0\r\n",
      "md.relax.nrestr = 0\r\n",
      "md.relax.nsteps = 0\r\n",
      "md.relax.p = 1.0\r\n",
      "md.relax.restraint = notsolvent\r\n",
      "min.ncyc = 10\r\n",
      "min.nsteps = 0\r\n",
      "min.restr_force = 10.0\r\n",
      "min.restraint = notsolvent\r\n",
      "neutralize = False\r\n",
      "pairs = (empty)\r\n",
      "\r\n",
      "[ligand]\r\n",
      "add_hydrogens = False\r\n",
      "basedir = (empty)\r\n",
      "box.length = 10.0\r\n",
      "box.type = (empty)\r\n",
      "calc_charge = False\r\n",
      "conf_search.conj_econv = 1e-06\r\n",
      "conf_search.conj_steps = 250\r\n",
      "conf_search.ffield = mmff94\r\n",
      "conf_search.geomsteps = 5\r\n",
      "conf_search.numconf = 0\r\n",
      "conf_search.steep_econv = 0.0001\r\n",
      "conf_search.steep_steps = 100\r\n",
      "correct_for_pH = False\r\n",
      "file.format = (empty)\r\n",
      "file.name = ligand.pdb\r\n",
      "gb_charges = False\r\n",
      "ions.conc = 0.0\r\n",
      "ions.dens = 1.0\r\n",
      "md.constT.T = 300.0\r\n",
      "md.constT.nsteps = 0\r\n",
      "md.constT.p = 1.0\r\n",
      "md.constT.restr_force = 10.0\r\n",
      "md.constT.restraint = notsolvent\r\n",
      "md.heat.T = 300.0\r\n",
      "md.heat.nsteps = 0\r\n",
      "md.heat.p = 1.0\r\n",
      "md.heat.restr_force = 10.0\r\n",
      "md.heat.restraint = notsolvent\r\n",
      "md.press.T = 300.0\r\n",
      "md.press.nsteps = 0\r\n",
      "md.press.p = 1.0\r\n",
      "md.press.restr_force = 10.0\r\n",
      "md.press.restraint = notsolvent\r\n",
      "md.relax.T = 300.0\r\n",
      "md.relax.nrestr = 0\r\n",
      "md.relax.nsteps = 0\r\n",
      "md.relax.p = 1.0\r\n",
      "md.relax.restraint = notsolvent\r\n",
      "min.ncyc = 10\r\n",
      "min.nsteps = 0\r\n",
      "min.restr_force = 10.0\r\n",
      "min.restraint = notsolvent\r\n",
      "molecules = (empty)\r\n",
      "morph.absolute = False\r\n",
      "morph_pairs = (empty)\r\n",
      "neutralize = False\r\n",
      "pH = 7.4\r\n",
      "skip_param = False\r\n",
      "write_dlf = False\r\n",
      "\r\n",
      "\n"
     ]
    }
   ],
   "source": [
    "print (info.stdout)"
   ]
  },
  {
   "cell_type": "markdown",
   "metadata": {},
   "source": [
    "FESetup is a command line tool and you can pass it an input file defining what you would like to set up. Let's change to the directory `FESetup_01` in order to run our fist simulation setup. "
   ]
  },
  {
   "cell_type": "code",
   "execution_count": 10,
   "metadata": {},
   "outputs": [
    {
     "name": "stdout",
     "output_type": "stream",
     "text": [
      "/home/ppxasjsm/Projects/CCP-BioSim-Workshop/Exercises/01_FESetup_ethane_methanol/FESetup_01\n"
     ]
    }
   ],
   "source": [
    "cd FESetup_01/"
   ]
  },
  {
   "cell_type": "code",
   "execution_count": 11,
   "metadata": {},
   "outputs": [
    {
     "name": "stdout",
     "output_type": "stream",
     "text": [
      "morph.in  \u001b[0m\u001b[01;34msolutes\u001b[0m/\r\n"
     ]
    }
   ],
   "source": [
    "ls"
   ]
  },
  {
   "cell_type": "markdown",
   "metadata": {},
   "source": [
    " Here we are working with ethane and methanol. Let's have a closer look at the inputfile `morph.in` provided."
   ]
  },
  {
   "cell_type": "code",
   "execution_count": 12,
   "metadata": {},
   "outputs": [
    {
     "name": "stdout",
     "output_type": "stream",
     "text": [
      "[globals]\r\n",
      "logfile = eth-meth.log\r\n",
      "forcefield = amber, ff14SB, tip3p, hfe\r\n",
      "gaff = gaff2\r\n",
      "mdengine = amber, sander \r\n",
      "AFE.type = Sire\r\n",
      "AFE.separate_vdw_elec = false\r\n"
     ]
    }
   ],
   "source": [
    "!head -n 7 morph.in"
   ]
  },
  {
   "cell_type": "markdown",
   "metadata": {},
   "source": [
    "The first section consists of global directives. Important here are the two directives `AFE.tye=Sire` and `AFE.separate_vdw_elec = false`. The first one means that Sire compatible output is generated and the second one means that the simulation will be carried out using a single step perturbation, perturbing charges and van der Waals interactions at the same time. Later on we will also look at how to generate output for different simulation software."
   ]
  },
  {
   "cell_type": "code",
   "execution_count": 13,
   "metadata": {},
   "outputs": [
    {
     "name": "stdout",
     "output_type": "stream",
     "text": [
      "\r\n",
      "[ligand]\r\n",
      "basedir = solutes \r\n",
      "file.name = solute.pdb\r\n",
      "molecules = ethane, methanol\r\n",
      "\r\n",
      "# the following are required to create the morph in solution\r\n",
      "box.type = rectangular\r\n",
      "box.length = 12.0\r\n",
      "neutralize = yes\r\n",
      "min.nsteps = 100\r\n",
      "\r\n",
      "min.ncyc = 100\r\n",
      "min.restr_force = 10.0\r\n",
      "min.restraint = notsolvent\r\n",
      "\r\n",
      "#defining the morphing:\r\n",
      "morph_pairs = ethane > methanol\r\n",
      "\r\n"
     ]
    }
   ],
   "source": [
    "!tail -n 19 morph.in"
   ]
  },
  {
   "cell_type": "markdown",
   "metadata": {},
   "source": [
    "For FESetup to understand what files to work on a strict directory structure is used. `basdir` gives information where it can find all molecules files. Here the basedir is called `solutes`. In `solutes` you have the molecules ethane and methanol as indicated by the corresponding directory and the actual filename which should be the same for all solutes is in this case `file.name = solute.pdb`. `molecules` defines the molecules that should actually be setup and in this case is the list of directories.\n",
    "\n",
    "Any directive that starts with `box.type` indicates that a solvated version of the molecule should be gnerated. FESetup also allows to run a minimisation straight away by using the different `min` directives. In the above example a minimisation for 100 steps using a restraint on non-solvent molecules of 10. \n",
    "\n",
    "To execute FESetup you either type into your terminal `FESetup morph.in` or exectute the next cell."
   ]
  },
  {
   "cell_type": "code",
   "execution_count": 14,
   "metadata": {},
   "outputs": [
    {
     "name": "stdout",
     "output_type": "stream",
     "text": [
      "\n",
      "=== FESetup release 1.2.1, SUI version: 0.8.3 ===\n",
      "\n",
      "Please cite: HH Loeffler, J Michel, C Woods, J Chem Inf Mod, 55, 2485\n",
      "             DOI 10.1021/acs.jcim.5b00368\n",
      "For more information please visit http://www.ccpbiosim.ac.uk/fesetup/\n",
      "\n",
      "Making ligand ethane...\n",
      "Making ligand methanol...\n",
      "Morphs will be generated for Sire\n",
      "Morphing ethane to methanol...\n",
      "\n",
      "=== All molecules built successfully ===\n",
      "\n"
     ]
    }
   ],
   "source": [
    "!/home/ppxasjsm/Software/FESetup1.2.1/FESetup64/bin/FESetup morph.in"
   ]
  },
  {
   "cell_type": "markdown",
   "metadata": {},
   "source": [
    "Let's have a look at the directory again. Some additional files have been generated!"
   ]
  },
  {
   "cell_type": "code",
   "execution_count": 15,
   "metadata": {},
   "outputs": [
    {
     "name": "stdout",
     "output_type": "stream",
     "text": [
      "eth-meth.log  \u001b[0m\u001b[01;34m_ligands\u001b[0m/  morph.in  \u001b[01;34m_perturbations\u001b[0m/  \u001b[01;34msolutes\u001b[0m/\r\n"
     ]
    }
   ],
   "source": [
    "ls"
   ]
  },
  {
   "cell_type": "markdown",
   "metadata": {},
   "source": [
    "Directories with an underscore `_` are output directories that contain the relevant information for the simualtion input. The most useful file is the generated logfile `eth-meth.log`. It contains all commands that were used in order to actually generate the output. It also contains information whether a setup has failed or not. If you are familiar with AMBER setup tools you will find a lot of familiar looking commands. If you want you can use `nano` on the commandline in order to take a closer look. "
   ]
  },
  {
   "cell_type": "markdown",
   "metadata": {},
   "source": [
    "### Solvated molecules\n",
    "The generated directory `_ligands` contains the original pdb files in a box of water, found in `_ligands/ethane` and `_ligands/methanol`. Let's have a more detailed look at one of the directories. "
   ]
  },
  {
   "cell_type": "code",
   "execution_count": 21,
   "metadata": {},
   "outputs": [
    {
     "name": "stdout",
     "output_type": "stream",
     "text": [
      "corr.ch      ligand_conv.mol2  min00001.info   solvated.pdb   vacuum.parm7\r\n",
      "gaff.mol2    ligand.frcmod     min00001.out    solvated.rst7  vacuum.pdb\r\n",
      "leap.log     ligand_tmp.mol2   min00001.rst7   sqm.in         vacuum.rst7\r\n",
      "ligand.ac    min00001.en       solute.pdb      sqm.out\r\n",
      "ligand.ac.0  min00001.in       solvated.parm7  sqm.pdb\r\n"
     ]
    }
   ],
   "source": [
    "ls _ligands/methanol/"
   ]
  },
  {
   "cell_type": "markdown",
   "metadata": {},
   "source": [
    "If you wanted to run a simple MD simulation of methanol in water you can use the `solvated.rst7` (coordinate file) and `solvated.parm7` (topology file) files. The coordinte file contains the energy minimised coordinates as generated by the minimisation protocol in the `morph.in` file. But since we are interested in running an alchemical free energy perturbation from ethane to methanol `_perturbations` is actually the directory we are intrested in. "
   ]
  },
  {
   "cell_type": "markdown",
   "metadata": {
    "collapsed": true
   },
   "source": [
    "**Task visualise the solvated molecule `solvated.pdb` using nglview below**"
   ]
  },
  {
   "cell_type": "code",
   "execution_count": null,
   "metadata": {},
   "outputs": [],
   "source": []
  },
  {
   "cell_type": "markdown",
   "metadata": {},
   "source": [
    "### Perturbation files\n",
    "Let's take a closer look at `_perturbations`. It has a subdirectory called `sire`, because we chose Sire to be the alchemical free enenergy simulation engine and that again has a subdirectory called `ethane~methanol` indicating the perturbation we want to simulate. "
   ]
  },
  {
   "cell_type": "code",
   "execution_count": 22,
   "metadata": {},
   "outputs": [
    {
     "name": "stdout",
     "output_type": "stream",
     "text": [
      "leap.log     mcs.mol2      MORPH.onestep.pert  vacuum.pdb\r\n",
      "ligand.flex  MORPH.frcmod  \u001b[0m\u001b[01;34msolvated\u001b[0m/           vacuum.rst7\r\n",
      "mcs_map.pkl  MORPH.mol2    vacuum.parm7\r\n"
     ]
    }
   ],
   "source": [
    "ls _perturbations/sire/ethane~methanol/"
   ]
  },
  {
   "cell_type": "markdown",
   "metadata": {},
   "source": [
    "The files of interest are the `MORPH.onestep.pert` file, `vacuum.parm7` (topology), `vacuum.rst7` (coordinates) and in the directory `solvated`, the solution equivalent `solvated.parm7` and `solvated.rst7` files. The solution and vacuum files will be used to simulate the vacuum and solution leg of the thermodynamic cycle. Let's take a closer look at `MORPH.onestep.pert`"
   ]
  },
  {
   "cell_type": "code",
   "execution_count": 25,
   "metadata": {},
   "outputs": [
    {
     "name": "stdout",
     "output_type": "stream",
     "text": [
      "version 1\r\n",
      "molecule LIG\r\n",
      "\tatom\r\n",
      "\t\tname C1\r\n",
      "\t\tinitial_type    c3\r\n",
      "\t\tfinal_type      c3\r\n",
      "\t\tinitial_LJ      3.39771  0.10780\r\n",
      "\t\tfinal_LJ        3.39771  0.10780\r\n",
      "\t\tinitial_charge -0.09435\r\n",
      "\t\tfinal_charge    0.11670\r\n",
      "\tendatom\r\n"
     ]
    }
   ],
   "source": [
    "!head -n11 _perturbations/sire/ethane~methanol/MORPH.onestep.pert"
   ]
  },
  {
   "cell_type": "markdown",
   "metadata": {},
   "source": [
    "It defines the initial and final atom types and their initial and final lennard jones parameters as well as partial charges. In the perturbation between ethane and methanol the first C atom (C1), will stay a C atom but the partial charges on the molecule will change because of the changed environment from initially having a methyl group attached to it to an OH group attached after the transformation. The second C atom will change to being an oxygen atom after the perturbation. So lets have a look at that atom in the `.pert` file. "
   ]
  },
  {
   "cell_type": "code",
   "execution_count": 27,
   "metadata": {},
   "outputs": [
    {
     "name": "stdout",
     "output_type": "stream",
     "text": [
      "\tatom\r\n",
      "\t\tname C2\r\n",
      "\t\tinitial_type    c3\r\n",
      "\t\tfinal_type      oh\r\n",
      "\t\tinitial_LJ      3.39771  0.10780\r\n",
      "\t\tfinal_LJ        3.24287  0.09300\r\n",
      "\t\tinitial_charge -0.09435\r\n",
      "\t\tfinal_charge   -0.59880\r\n",
      "\tendatom\r\n"
     ]
    }
   ],
   "source": [
    "!sed -n '12,20p' _perturbations/sire/ethane~methanol/MORPH.onestep.pert"
   ]
  },
  {
   "cell_type": "markdown",
   "metadata": {},
   "source": [
    "You can now see how the initial atom type is `c3`, and the final atom type is `oh`, meaning that we are going from an sp3 hypridised carbon atom to an oxygen atom that is bonded to a hydrogen. The Lennard jones terms chage a little and the partial charges do too. The alchemcial free enrgy software can then create a liniar perturbation between the initial and final values to slowly morph from one to the other.  "
   ]
  },
  {
   "cell_type": "markdown",
   "metadata": {},
   "source": [
    "### Adding more perturbations\n",
    "Now we understand the output generated by FESetup lets see how we can change the input to get a different output. "
   ]
  },
  {
   "cell_type": "markdown",
   "metadata": {},
   "source": [
    "**Task: Can you modify the `morph.in` file in such a way that we not only generate a ethane to methanol, but also a methanol to ethane perturbation file**"
   ]
  },
  {
   "cell_type": "markdown",
   "metadata": {},
   "source": [
    "Using nano open morph.in and identify what you need to change in order to not only generate ethane > methanol, but also methanol > ethane. "
   ]
  },
  {
   "cell_type": "code",
   "execution_count": null,
   "metadata": {},
   "outputs": [],
   "source": [
    "## Now run the modified file through FESetup add the requried code below\n"
   ]
  },
  {
   "cell_type": "code",
   "execution_count": null,
   "metadata": {},
   "outputs": [],
   "source": [
    "We shoud now have an additional perturbation in the `_perturbations/sire` directory. "
   ]
  },
  {
   "cell_type": "code",
   "execution_count": 28,
   "metadata": {},
   "outputs": [
    {
     "name": "stdout",
     "output_type": "stream",
     "text": [
      "\u001b[0m\u001b[01;34methane~methanol\u001b[0m/  \u001b[01;34mmethanol~ethane\u001b[0m/\r\n"
     ]
    }
   ],
   "source": [
    "ls _perturbations/sire"
   ]
  },
  {
   "cell_type": "markdown",
   "metadata": {},
   "source": [
    "**Task: visulatise the `vacuum.pdb` file using nglview of the new methanol~ethane perturbation**"
   ]
  },
  {
   "cell_type": "code",
   "execution_count": null,
   "metadata": {},
   "outputs": [],
   "source": [
    "## add code to load vacuum.pdb into nglview\n",
    "\n",
    "\n"
   ]
  },
  {
   "cell_type": "markdown",
   "metadata": {},
   "source": [
    "Questions:\n",
    "- Why does the molecule look more like ethane than methanol?\n",
    "- Can you identify the atom types that are connected to oxygen atom? Think of what was covered in the lecture. "
   ]
  },
  {
   "cell_type": "markdown",
   "metadata": {},
   "source": [
    "### Equilibration in FESetup\n",
    "FESetup can also be used to straightaway equilibrate the solvation box with the solute in it. It may be desirable to run an equilibration protocol with FESetup, this can be done by adding equilibration information to the input file. For this purpose a second FESetup directory FESetup_02 has been prepared. Change to that directory and have a look at the `equilibrate.in` input file. "
   ]
  },
  {
   "cell_type": "code",
   "execution_count": 30,
   "metadata": {},
   "outputs": [
    {
     "name": "stdout",
     "output_type": "stream",
     "text": [
      "/home/ppxasjsm/Projects/CCP-BioSim-Workshop/Exercises/01_FESetup_ethane_methanol/FESetup_02\n"
     ]
    }
   ],
   "source": [
    "cd ../FESetup_02/"
   ]
  },
  {
   "cell_type": "code",
   "execution_count": 39,
   "metadata": {},
   "outputs": [
    {
     "name": "stdout",
     "output_type": "stream",
     "text": [
      "[ligand]\r\n",
      "basedir = solutes \r\n",
      "file.name = solute.pdb\r\n",
      "molecules = ethane, methanol\r\n",
      "\r\n",
      "# the following are required to create the morph in solution\r\n",
      "box.type = rectangular\r\n",
      "box.length = 12.0\r\n",
      "neutralize = yes\r\n",
      "min.nsteps = 100\r\n",
      "\r\n",
      "min.ncyc = 100\r\n",
      "min.restr_force = 10.0\r\n",
      "min.restraint = notsolvent\r\n",
      "\r\n",
      "# heat the system to the final temperature running NVT\r\n",
      "md.heat.nsteps = 500\r\n",
      "md.heat.T = 300.0\r\n",
      "md.heat.restraint = notsolvent\r\n",
      "md.heat.restr_force = 5.0\r\n",
      "\r\n",
      "# fix the density of the system running NpT\r\n",
      "md.press.nsteps = 1000\r\n",
      "md.press.T = 300.0\r\n",
      "md.press.p = 1.0\r\n",
      "md.press.restraint = notsolvent\r\n",
      "md.press.restr_force = 4.0\r\n",
      "\r\n",
      "# restraints release in 4 steps, this is a NpT protocol\r\n",
      "md.relax.nrestr = 4\r\n",
      "md.relax.nsteps = 500\r\n",
      "md.relax.T = 300.0\r\n",
      "md.relax.p = 1.0\r\n",
      "md.relax.restraint = notsolvent\r\n"
     ]
    }
   ],
   "source": [
    "!sed -n '10,50p' equilibrate.in"
   ]
  },
  {
   "cell_type": "markdown",
   "metadata": {},
   "source": [
    "The file now contains a set of directives that will run a NVT simultation to heat the system to 300K followed by an NPT simulation to equilibrate the density and then a protocol that will slowly release the restraint on the solute molecule in the NPT ensemble. Note however, how we have not specified any kind of morphing. It is often useful to not have the morph and equilibration happen in one go, because often you want to run the equilibrations individually in parallel on a cluster and then when completed actually run the morphing. "
   ]
  },
  {
   "cell_type": "code",
   "execution_count": null,
   "metadata": {
    "collapsed": true
   },
   "outputs": [],
   "source": [
    "# Insert code to run the equilibration \n",
    "\n"
   ]
  },
  {
   "cell_type": "markdown",
   "metadata": {},
   "source": [
    "With the equilibration successfully run, we can now run the morphing. You should notice that there is no `_perturbations` directory that was cretated by FESetup. "
   ]
  },
  {
   "cell_type": "code",
   "execution_count": null,
   "metadata": {},
   "outputs": [],
   "source": [
    "ls"
   ]
  },
  {
   "cell_type": "markdown",
   "metadata": {},
   "source": [
    "This step will be very quick. For this purpose we have a `morph.in` file again. Have a look at it. It is much shorter and mostly defines the type of simulation engine and the fact that we also want to morph the solution phase and not the vacuum phase as indicated by the `box.type = rectangular` and `box.length = 12.0` directives. "
   ]
  },
  {
   "cell_type": "code",
   "execution_count": null,
   "metadata": {
    "collapsed": true
   },
   "outputs": [],
   "source": [
    "# Insert the code to then run the morphing\n",
    "\n"
   ]
  },
  {
   "cell_type": "markdown",
   "metadata": {},
   "source": [
    "Make sure that the pertruabtions were actually succesfully generated. "
   ]
  },
  {
   "cell_type": "code",
   "execution_count": null,
   "metadata": {},
   "outputs": [],
   "source": [
    "ls _perturbations/sire"
   ]
  },
  {
   "cell_type": "markdown",
   "metadata": {},
   "source": [
    "### Running simulation in vacuum\n",
    "This bit may be cut out, if the server we are running on is too slow, so don't worry about this bit yet. "
   ]
  },
  {
   "cell_type": "markdown",
   "metadata": {},
   "source": []
  },
  {
   "cell_type": "markdown",
   "metadata": {},
   "source": [
    "Well done! You have now started running a short simulation with a free energy perturbation in vacuum, let's go and have a tea/coffe while we wait for this to finish!"
   ]
  }
 ],
 "metadata": {
  "anaconda-cloud": {},
  "kernelspec": {
   "display_name": "Python 2",
   "language": "python",
   "name": "python2"
  },
  "language_info": {
   "codemirror_mode": {
    "name": "ipython",
    "version": 2
   },
   "file_extension": ".py",
   "mimetype": "text/x-python",
   "name": "python",
   "nbconvert_exporter": "python",
   "pygments_lexer": "ipython2",
   "version": "2.7.14"
  }
 },
 "nbformat": 4,
 "nbformat_minor": 2
}
