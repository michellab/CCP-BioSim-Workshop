{
 "cells": [
  {
   "cell_type": "markdown",
   "metadata": {},
   "source": [
    "## Setting up a hydration free Energy calculuation\n",
    "This notebook will guide you through how to use FESetup in order to run an alchemical free energy calculation.    \n",
    "\n",
    "\n",
    "The notebook forms part of the CCPBio-Sim workshop **Tackling Alchemistry with FESetup and Sire SOMD** run on the 10th of April 2018 at the University of Bristol.\n",
    "\n",
    "Author: Anotnia Mey   \n",
    "Email: antonia.mey@ed.ac.uk"
   ]
  },
  {
   "cell_type": "markdown",
   "metadata": {},
   "source": [
    "### Setting up the notebook with all necessary imports"
   ]
  },
  {
   "cell_type": "code",
   "execution_count": 1,
   "metadata": {},
   "outputs": [
    {
     "name": "stdout",
     "output_type": "stream",
     "text": [
      "Populating the interactive namespace from numpy and matplotlib\n"
     ]
    }
   ],
   "source": [
    "%pylab inline\n",
    "import nglview"
   ]
  },
  {
   "cell_type": "markdown",
   "metadata": {},
   "source": [
    "### Setting the stage\n",
    "We want to compute the relative free energy of hydration between ethane and methanol. That is the free energy difference between hydrating an ethane molecule in water and a methanol molecule in water. It assumes that you had a look at the slides of lecture 1 or attended lecture1 (maybe youtube link here).\n",
    "\n",
    "Below you can see a thermodynamic cycle for the relative hydration free energy of ethane and methanol:\n",
    "![therm_cycle](Data/Therm_cycle.jpg)\n",
    "\n",
    "We use FESetup to authomatically generate the perturbation information needed for running the alchemical free energy calcualtions"
   ]
  },
  {
   "cell_type": "markdown",
   "metadata": {},
   "source": [
    "### Visualise molecule\n",
    "\n",
    "Have a look in the FESetup directory. You will find a file called `morph.in` and a directory called `solute`. `morph.in` is the main input file and we will look at it more closely in a second. `solute` contains two further directories: ethane and methanol each containing a pdb structure file called `solute.pdb` containing the 3D structure of the two molecules we want to compute the relative free energy difference between. \n",
    "\n"
   ]
  },
  {
   "cell_type": "code",
   "execution_count": 3,
   "metadata": {
    "collapsed": true
   },
   "outputs": [],
   "source": [
    "import MDAnalysis as mda\n",
    "import nglview as nv\n",
    "from nglview.datafiles import PDB, XTC\n",
    "\n",
    "u = mda.Universe('FESetup/solutes/ethane/solute.pdb')\n",
    "\n",
    "protein = u.select_atoms('all')"
   ]
  },
  {
   "cell_type": "code",
   "execution_count": 4,
   "metadata": {},
   "outputs": [
    {
     "data": {
      "application/vnd.jupyter.widget-view+json": {
       "model_id": "78958911690149f48bd2f54352422a42",
       "version_major": 2,
       "version_minor": 0
      },
      "text/plain": [
       "A Jupyter Widget"
      ]
     },
     "metadata": {},
     "output_type": "display_data"
    }
   ],
   "source": [
    "w = nv.show_mdanalysis(protein)\n",
    "w"
   ]
  },
  {
   "cell_type": "markdown",
   "metadata": {},
   "source": [
    "### FESetup\n",
    "You can open a terminal and run FESetup from the command line by simply typing:   \n",
    "    ```FESetup --help```"
   ]
  },
  {
   "cell_type": "markdown",
   "metadata": {},
   "source": [
    "Or you can run things within the notebook. In order to access command line arguments in a notebook as was covered before you can use the exclamation mark as an escape."
   ]
  },
  {
   "cell_type": "code",
   "execution_count": 23,
   "metadata": {
    "collapsed": true
   },
   "outputs": [],
   "source": [
    "%%capture\n",
    "!/Users/toni_brain/Software/FESetup1.1/bin/FESetup --help"
   ]
  },
  {
   "cell_type": "markdown",
   "metadata": {},
   "source": [
    "FESetup is a command line tool and you can pass it an input file defining what you would like to set up. Here we are wokring with ethane and methanol. Let's have a closer look at morph.in\n",
    "\n"
   ]
  },
  {
   "cell_type": "code",
   "execution_count": 34,
   "metadata": {},
   "outputs": [
    {
     "name": "stdout",
     "output_type": "stream",
     "text": [
      "[globals]\r\n",
      "logfile = eth-meth.log\r\n",
      "forcefield = amber, ff14SB, tip3p, hfe\r\n",
      "gaff = gaff2\r\n",
      "mdengine = amber, sander \r\n",
      "AFE.type = Sire\r\n",
      "AFE.separate_vdw_elec = false\r\n"
     ]
    }
   ],
   "source": [
    "!head -n 7 FESetup/morph_short.in"
   ]
  },
  {
   "cell_type": "markdown",
   "metadata": {},
   "source": [
    "The first section consists of global directives. Important here are the two directives `AFE.tye=Sire` and `AFE.separate_vdw_elec = false`. The first one means that Sire compatible output is generated and the second one means that the simulation will be carried out using a single step perturbation, perturbing charges and van der Waals interactions at the same time."
   ]
  },
  {
   "cell_type": "code",
   "execution_count": 40,
   "metadata": {},
   "outputs": [
    {
     "name": "stdout",
     "output_type": "stream",
     "text": [
      "[ligand]\r\n",
      "basedir = solute \r\n",
      "file.name = solute.pdb\r\n",
      "molecules = ethane, methanol\r\n",
      "\r\n",
      "# the following are required to create the morph in solution\r\n",
      "box.type = rectangular\r\n",
      "box.length = 12.0\r\n",
      "neutralize = yes\r\n",
      "min.nsteps = 100\r\n",
      "\r\n",
      "min.ncyc = 100\r\n",
      "min.restr_force = 10.0\r\n",
      "min.restraint = notsolvent\r\n",
      "\r\n",
      "#morph_pairs defines how the morphing between two molecules is done\r\n",
      "#The example below morphs ethane to methanol\r\n",
      "morph_pairs = ethane > methanol\r\n",
      "\r\n"
     ]
    }
   ],
   "source": [
    "!tail -n 19 FESetup/morph.in"
   ]
  },
  {
   "cell_type": "markdown",
   "metadata": {},
   "source": [
    "For FESetup to understand what files to work on a strict directory structure is used. `basdir` gives information where it can find all molecules files. Here the basedir is called `solute`. In `solute` you have the molecules ethane and methanol as indicated by the corresponding directory and the actual filename which should be the same for all solutes is in this case `file.name = solute.pdb`. `molecules` defines the molecules that should actually be setup and in this case is the list of directories.\n",
    "\n",
    "Any directive that starts with `box.type` indicates that a solvated version of the molecule should be gnerated. FESetup also allows to run a minimisation straight away by using the different `min` directives. In the above example a minimisation for 100 steps using a restraint on non-solvent molecules of 10. \n",
    "\n",
    "To execute FESetup you either type into your terminal `FESetup morph.in` or exectute the next cell."
   ]
  },
  {
   "cell_type": "code",
   "execution_count": 17,
   "metadata": {
    "collapsed": true
   },
   "outputs": [],
   "source": [
    "!FESetup morph.in"
   ]
  },
  {
   "cell_type": "markdown",
   "metadata": {},
   "source": [
    "The output should look like this:\n",
    "```bash\n",
    "FESetup morph.in \n",
    "\n",
    "=== FESetup release 1.2.1, SUI version: 0.8.3 ===\n",
    "\n",
    "Please cite: HH Loeffler, J Michel, C Woods, J Chem Inf Mod, 55, 2485\n",
    "             DOI 10.1021/acs.jcim.5b00368\n",
    "For more information please visit http://www.ccpbiosim.ac.uk/fesetup/\n",
    "\n",
    "Making ligand ethane...\n",
    "Making ligand methanol...\n",
    "Morphs will be generated for Sire\n",
    "Morphing ethane to methanol...\n",
    "\n",
    "=== All molecules built successfully ===\n",
    "\n",
    "\n",
    "real\t0m7.047s\n",
    "user\t0m6.712s\n",
    "sys\t0m0.349s\n",
    "```"
   ]
  },
  {
   "cell_type": "markdown",
   "metadata": {},
   "source": [
    "Furthermore  some additional files have been generated"
   ]
  },
  {
   "cell_type": "code",
   "execution_count": 44,
   "metadata": {},
   "outputs": [
    {
     "name": "stdout",
     "output_type": "stream",
     "text": [
      "01_FESetup.ipynb     Func.jpg             ethane~methanol.pdf\r\n",
      "\u001b[1m\u001b[36mData\u001b[m\u001b[m/                HydrationF.jpg       gradient.jpg\r\n",
      "\u001b[1m\u001b[36mFESetup\u001b[m\u001b[m/             Therm_cycle.key      menu.html\r\n",
      "FESetup.zip          Therm_cycle.pdf      methanol.pdb\r\n",
      "FUNC_0.in            both_pmf.jpg         pmf.jpg\r\n",
      "FUNC_1.in            config_free          pmf.png\r\n",
      "Free_en.jpg          config_vacuum        script\r\n",
      "Free_en.png          ethane.pdb\r\n",
      "Free_en_corr.jpg     ethane~methanol.jpg\r\n"
     ]
    }
   ],
   "source": [
    "ls"
   ]
  },
  {
   "cell_type": "markdown",
   "metadata": {},
   "source": [
    "Directories with an underscore `_` are output directories that contain the relevant information for the simualtion input. The most useful file is the generated logfile `eth-meth.log`. It contains all amber commands that were run behind the scenes. "
   ]
  },
  {
   "cell_type": "markdown",
   "metadata": {},
   "source": [
    "### Solvated ethane"
   ]
  },
  {
   "cell_type": "code",
   "execution_count": null,
   "metadata": {
    "collapsed": true
   },
   "outputs": [],
   "source": [
    "#visualise ethane here"
   ]
  },
  {
   "cell_type": "markdown",
   "metadata": {},
   "source": [
    "### Solvated methanol"
   ]
  },
  {
   "cell_type": "code",
   "execution_count": null,
   "metadata": {
    "collapsed": true
   },
   "outputs": [],
   "source": [
    "## visualise solvated methanol fill in code to visualise solvated methanol"
   ]
  },
  {
   "cell_type": "code",
   "execution_count": null,
   "metadata": {
    "collapsed": true
   },
   "outputs": [],
   "source": [
    "## Widget question box"
   ]
  },
  {
   "cell_type": "code",
   "execution_count": 5,
   "metadata": {
    "collapsed": true
   },
   "outputs": [],
   "source": [
    "## perturbation files"
   ]
  },
  {
   "cell_type": "markdown",
   "metadata": {},
   "source": [
    "## Exercises"
   ]
  },
  {
   "cell_type": "markdown",
   "metadata": {},
   "source": [
    "1. Run with equilibration (error)\n",
    "2. How to compute perturbation methanol -> ethane\n",
    "3. Advanced (Setup for methanol -> ethanol using only minimisation input)\n",
    "4. Advanced run some aspects of the simulation in vaccuum \n",
    "5. Atom mapping"
   ]
  }
 ],
 "metadata": {
  "anaconda-cloud": {},
  "kernelspec": {
   "display_name": "Python [default]",
   "language": "python",
   "name": "python3"
  },
  "language_info": {
   "codemirror_mode": {
    "name": "ipython",
    "version": 3
   },
   "file_extension": ".py",
   "mimetype": "text/x-python",
   "name": "python",
   "nbconvert_exporter": "python",
   "pygments_lexer": "ipython3",
   "version": "3.5.2"
  }
 },
 "nbformat": 4,
 "nbformat_minor": 2
}
